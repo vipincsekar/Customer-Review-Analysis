{
  "nbformat": 4,
  "nbformat_minor": 0,
  "metadata": {
    "colab": {
      "name": "Customer Review.ipynb",
      "version": "0.3.2",
      "provenance": [],
      "collapsed_sections": [],
      "include_colab_link": true
    },
    "kernelspec": {
      "name": "python3",
      "display_name": "Python 3"
    }
  },
  "cells": [
    {
      "cell_type": "markdown",
      "metadata": {
        "id": "view-in-github",
        "colab_type": "text"
      },
      "source": [
        "<a href=\"https://colab.research.google.com/github/vipincsekar/Customer-Review-Analysis/blob/master/Customer_Review.ipynb\" target=\"_parent\"><img src=\"https://colab.research.google.com/assets/colab-badge.svg\" alt=\"Open In Colab\"/></a>"
      ]
    },
    {
      "metadata": {
        "id": "Y5dr9ILLAF4N",
        "colab_type": "code",
        "colab": {}
      },
      "cell_type": "code",
      "source": [
        "import pandas as pd\n",
        "import numpy as np\n",
        "import re\n",
        "import matplotlib.pyplot as plt"
      ],
      "execution_count": 0,
      "outputs": []
    },
    {
      "metadata": {
        "id": "NaaIEEPEAJUV",
        "colab_type": "code",
        "colab": {}
      },
      "cell_type": "code",
      "source": [
        "data = pd.read_csv(\"/content/dataset.csv\", encoding='ISO-8859-1')"
      ],
      "execution_count": 0,
      "outputs": []
    },
    {
      "metadata": {
        "id": "CCEIgJ_4AZCT",
        "colab_type": "code",
        "outputId": "96d4ed93-45e4-4b9c-f2ae-e129565a14ef",
        "colab": {
          "base_uri": "https://localhost:8080/",
          "height": 162
        }
      },
      "cell_type": "code",
      "source": [
        "data.head(2)"
      ],
      "execution_count": 38,
      "outputs": [
        {
          "output_type": "execute_result",
          "data": {
            "text/html": [
              "<div>\n",
              "<style scoped>\n",
              "    .dataframe tbody tr th:only-of-type {\n",
              "        vertical-align: middle;\n",
              "    }\n",
              "\n",
              "    .dataframe tbody tr th {\n",
              "        vertical-align: top;\n",
              "    }\n",
              "\n",
              "    .dataframe thead th {\n",
              "        text-align: right;\n",
              "    }\n",
              "</style>\n",
              "<table border=\"1\" class=\"dataframe\">\n",
              "  <thead>\n",
              "    <tr style=\"text-align: right;\">\n",
              "      <th></th>\n",
              "      <th>subject</th>\n",
              "      <th>Customer</th>\n",
              "      <th>Location</th>\n",
              "      <th>Rating</th>\n",
              "      <th>date_time</th>\n",
              "      <th>Views</th>\n",
              "      <th>Total_reviews_by_customer</th>\n",
              "      <th>Customer_follower</th>\n",
              "    </tr>\n",
              "  </thead>\n",
              "  <tbody>\n",
              "    <tr>\n",
              "      <th>0</th>\n",
              "      <td>Cheaters</td>\n",
              "      <td>ambajirao_a</td>\n",
              "      <td>Bangalore India</td>\n",
              "      <td>1</td>\n",
              "      <td>4/22/2014 17:22</td>\n",
              "      <td>9558</td>\n",
              "      <td>2</td>\n",
              "      <td>1</td>\n",
              "    </tr>\n",
              "    <tr>\n",
              "      <th>1</th>\n",
              "      <td>Well, think again!!!!!</td>\n",
              "      <td>deekshasethi</td>\n",
              "      <td>new delhi india</td>\n",
              "      <td>4</td>\n",
              "      <td>3/13/2006 21:41</td>\n",
              "      <td>3548</td>\n",
              "      <td>7</td>\n",
              "      <td>6</td>\n",
              "    </tr>\n",
              "  </tbody>\n",
              "</table>\n",
              "</div>"
            ],
            "text/plain": [
              "                  subject      Customer         Location  Rating  \\\n",
              "0                Cheaters   ambajirao_a  Bangalore India       1   \n",
              "1  Well, think again!!!!!  deekshasethi  new delhi india       4   \n",
              "\n",
              "         date_time  Views  Total_reviews_by_customer  Customer_follower  \n",
              "0  4/22/2014 17:22   9558                          2                  1  \n",
              "1  3/13/2006 21:41   3548                          7                  6  "
            ]
          },
          "metadata": {
            "tags": []
          },
          "execution_count": 38
        }
      ]
    },
    {
      "metadata": {
        "id": "fYLmPEfeKezN",
        "colab_type": "code",
        "outputId": "9686d407-74fd-4c48-cfe8-23a5277d24d7",
        "colab": {
          "base_uri": "https://localhost:8080/",
          "height": 35
        }
      },
      "cell_type": "code",
      "source": [
        "data.shape"
      ],
      "execution_count": 39,
      "outputs": [
        {
          "output_type": "execute_result",
          "data": {
            "text/plain": [
              "(128, 8)"
            ]
          },
          "metadata": {
            "tags": []
          },
          "execution_count": 39
        }
      ]
    },
    {
      "metadata": {
        "id": "w5LCxrCLCVii",
        "colab_type": "code",
        "colab": {
          "base_uri": "https://localhost:8080/",
          "height": 1092
        },
        "outputId": "83475073-8207-43c4-e01c-053ada4c32e3"
      },
      "cell_type": "code",
      "source": [
        "data[\"Location\"].value_counts()"
      ],
      "execution_count": 40,
      "outputs": [
        {
          "output_type": "execute_result",
          "data": {
            "text/plain": [
              "Bangalore India                     22\n",
              "India                               16\n",
              "Hyderabad India                      5\n",
              "Delhi India                          5\n",
              "Mumbai India                         5\n",
              "bangalore India                      4\n",
              "New Delhi India                      3\n",
              "#NAME?                               3\n",
              "Chennai India                        2\n",
              "Gurgaon India                        2\n",
              "New Delhi, India India               2\n",
              "Noida India                          2\n",
              "Trichy India                         2\n",
              "Mumbai, Maharashtra, India India     2\n",
              "greater noida India                  1\n",
              "Jaipur  India                        1\n",
              "Kolkata India                        1\n",
              "thane India                          1\n",
              "Morinda India                        1\n",
              "Noida, India India                   1\n",
              "Karnataka India                      1\n",
              "Cochin India                         1\n",
              "Faridabad India                      1\n",
              "mumbai india                         1\n",
              "noida India                          1\n",
              "Lucknow India                        1\n",
              "Ajmer India                          1\n",
              "Bhadra India                         1\n",
              "BHOPAL India                         1\n",
              "new delhi india                      1\n",
              "                                    ..\n",
              "Bangalore Inida                      1\n",
              "chennai India                        1\n",
              "Kochi India                          1\n",
              "Miamisburg OH India                  1\n",
              "Tezpur India                         1\n",
              "Pune India                           1\n",
              "Mangalore India                      1\n",
              "Hubli India                          1\n",
              "Bangalore BE                         1\n",
              "Kharagpur India                      1\n",
              "Rohtak India                         1\n",
              "Jaipur, Rajasthan India              1\n",
              "Allahabad, India India               1\n",
              "mumbai India                         1\n",
              "Coimbatore, Tamil Nadu India         1\n",
              "Del India                            1\n",
              "Dwarka India                         1\n",
              "Rishikesh India                      1\n",
              "salem India                          1\n",
              "Bangalore, India India               1\n",
              "banglaore india                      1\n",
              "Vijayawada India                     1\n",
              "ludhiana India                       1\n",
              "Ahmedabad India                      1\n",
              "bangalore india                      1\n",
              "Rani Bagh India                      1\n",
              "Pune INDIA                           1\n",
              "Amherst USA                          1\n",
              "Kottayam India                       1\n",
              "gurgaon India                        1\n",
              "Name: Location, Length: 67, dtype: int64"
            ]
          },
          "metadata": {
            "tags": []
          },
          "execution_count": 40
        }
      ]
    },
    {
      "metadata": {
        "id": "F561fhSCDXyh",
        "colab_type": "code",
        "colab": {}
      },
      "cell_type": "code",
      "source": [
        "data[\"date_time\"] =pd.to_datetime(data[\"date_time\"])"
      ],
      "execution_count": 0,
      "outputs": []
    },
    {
      "metadata": {
        "id": "2dOFrcXsCgzd",
        "colab_type": "code",
        "colab": {}
      },
      "cell_type": "code",
      "source": [
        "def add_datepart1(df, fldname, drop=True, time=False, errors=\"raise\"):\t\n",
        "\n",
        "    fld = df[fldname]\n",
        "    fld_dtype = fld.dtype\n",
        "    if isinstance(fld_dtype, pd.core.dtypes.dtypes.DatetimeTZDtype):\n",
        "        fld_dtype = np.datetime64\n",
        "\n",
        "    if not np.issubdtype(fld_dtype, np.datetime64):\n",
        "        df[fldname] = fld = pd.to_datetime(fld, infer_datetime_format=True, errors=errors)\n",
        "    targ_pre = re.sub('[Dd]ate$', '', fldname)\n",
        "    attr = ['Year', 'Month', 'Week', 'Day', 'Dayofweek', 'Dayofyear',\n",
        "            'Is_month_end', 'Is_month_start', 'Is_quarter_end', 'Is_quarter_start', 'Is_year_end', 'Is_year_start']\n",
        "    if time: attr = attr + ['Hour', 'Minute', 'Second']\n",
        "    for n in attr: df[targ_pre + n] = getattr(fld.dt, n.lower())\n",
        "    df[targ_pre + 'Elapsed'] = fld.astype(np.int64) // 10 ** 9\n",
        "    if drop: df.drop(fldname, axis=1, inplace=True)\n",
        "\n",
        "def is_date(x): return np.issubdtype(x.dtype, np.datetime64)\n"
      ],
      "execution_count": 0,
      "outputs": []
    },
    {
      "metadata": {
        "id": "5jFEqClxDNIf",
        "colab_type": "code",
        "outputId": "45c1efa4-1bf0-4ac2-e480-c659b22dfc95",
        "colab": {
          "base_uri": "https://localhost:8080/",
          "height": 395
        }
      },
      "cell_type": "code",
      "source": [
        "add_datepart1(data,\"date_time\")\n",
        "data.head()\n"
      ],
      "execution_count": 43,
      "outputs": [
        {
          "output_type": "execute_result",
          "data": {
            "text/html": [
              "<div>\n",
              "<style scoped>\n",
              "    .dataframe tbody tr th:only-of-type {\n",
              "        vertical-align: middle;\n",
              "    }\n",
              "\n",
              "    .dataframe tbody tr th {\n",
              "        vertical-align: top;\n",
              "    }\n",
              "\n",
              "    .dataframe thead th {\n",
              "        text-align: right;\n",
              "    }\n",
              "</style>\n",
              "<table border=\"1\" class=\"dataframe\">\n",
              "  <thead>\n",
              "    <tr style=\"text-align: right;\">\n",
              "      <th></th>\n",
              "      <th>subject</th>\n",
              "      <th>Customer</th>\n",
              "      <th>Location</th>\n",
              "      <th>Rating</th>\n",
              "      <th>Views</th>\n",
              "      <th>Total_reviews_by_customer</th>\n",
              "      <th>Customer_follower</th>\n",
              "      <th>date_timeYear</th>\n",
              "      <th>date_timeMonth</th>\n",
              "      <th>date_timeWeek</th>\n",
              "      <th>date_timeDay</th>\n",
              "      <th>date_timeDayofweek</th>\n",
              "      <th>date_timeDayofyear</th>\n",
              "      <th>date_timeIs_month_end</th>\n",
              "      <th>date_timeIs_month_start</th>\n",
              "      <th>date_timeIs_quarter_end</th>\n",
              "      <th>date_timeIs_quarter_start</th>\n",
              "      <th>date_timeIs_year_end</th>\n",
              "      <th>date_timeIs_year_start</th>\n",
              "      <th>date_timeElapsed</th>\n",
              "    </tr>\n",
              "  </thead>\n",
              "  <tbody>\n",
              "    <tr>\n",
              "      <th>0</th>\n",
              "      <td>Cheaters</td>\n",
              "      <td>ambajirao_a</td>\n",
              "      <td>Bangalore India</td>\n",
              "      <td>1</td>\n",
              "      <td>9558</td>\n",
              "      <td>2</td>\n",
              "      <td>1</td>\n",
              "      <td>2014</td>\n",
              "      <td>4</td>\n",
              "      <td>17</td>\n",
              "      <td>22</td>\n",
              "      <td>1</td>\n",
              "      <td>112</td>\n",
              "      <td>False</td>\n",
              "      <td>False</td>\n",
              "      <td>False</td>\n",
              "      <td>False</td>\n",
              "      <td>False</td>\n",
              "      <td>False</td>\n",
              "      <td>1398187320</td>\n",
              "    </tr>\n",
              "    <tr>\n",
              "      <th>1</th>\n",
              "      <td>Well, think again!!!!!</td>\n",
              "      <td>deekshasethi</td>\n",
              "      <td>new delhi india</td>\n",
              "      <td>4</td>\n",
              "      <td>3548</td>\n",
              "      <td>7</td>\n",
              "      <td>6</td>\n",
              "      <td>2006</td>\n",
              "      <td>3</td>\n",
              "      <td>11</td>\n",
              "      <td>13</td>\n",
              "      <td>0</td>\n",
              "      <td>72</td>\n",
              "      <td>False</td>\n",
              "      <td>False</td>\n",
              "      <td>False</td>\n",
              "      <td>False</td>\n",
              "      <td>False</td>\n",
              "      <td>False</td>\n",
              "      <td>1142286060</td>\n",
              "    </tr>\n",
              "    <tr>\n",
              "      <th>2</th>\n",
              "      <td>Metlife is the worst insurance company</td>\n",
              "      <td>lijok</td>\n",
              "      <td>Kochi India</td>\n",
              "      <td>1</td>\n",
              "      <td>9311</td>\n",
              "      <td>1</td>\n",
              "      <td>0</td>\n",
              "      <td>2013</td>\n",
              "      <td>6</td>\n",
              "      <td>23</td>\n",
              "      <td>4</td>\n",
              "      <td>1</td>\n",
              "      <td>155</td>\n",
              "      <td>False</td>\n",
              "      <td>False</td>\n",
              "      <td>False</td>\n",
              "      <td>False</td>\n",
              "      <td>False</td>\n",
              "      <td>False</td>\n",
              "      <td>1370336880</td>\n",
              "    </tr>\n",
              "    <tr>\n",
              "      <th>3</th>\n",
              "      <td>HAVE U MET LIFE TODAY??????</td>\n",
              "      <td>Kiran4</td>\n",
              "      <td>mumbai india</td>\n",
              "      <td>4</td>\n",
              "      <td>15309</td>\n",
              "      <td>15</td>\n",
              "      <td>28</td>\n",
              "      <td>2004</td>\n",
              "      <td>10</td>\n",
              "      <td>42</td>\n",
              "      <td>14</td>\n",
              "      <td>3</td>\n",
              "      <td>288</td>\n",
              "      <td>False</td>\n",
              "      <td>False</td>\n",
              "      <td>False</td>\n",
              "      <td>False</td>\n",
              "      <td>False</td>\n",
              "      <td>False</td>\n",
              "      <td>1097762760</td>\n",
              "    </tr>\n",
              "    <tr>\n",
              "      <th>4</th>\n",
              "      <td>Irresponsible persons  working over there in PNB</td>\n",
              "      <td>srikanthkumar.a</td>\n",
              "      <td>Bengaluru/ Bangalore India</td>\n",
              "      <td>1</td>\n",
              "      <td>3480</td>\n",
              "      <td>1</td>\n",
              "      <td>0</td>\n",
              "      <td>2017</td>\n",
              "      <td>5</td>\n",
              "      <td>22</td>\n",
              "      <td>31</td>\n",
              "      <td>2</td>\n",
              "      <td>151</td>\n",
              "      <td>True</td>\n",
              "      <td>False</td>\n",
              "      <td>False</td>\n",
              "      <td>False</td>\n",
              "      <td>False</td>\n",
              "      <td>False</td>\n",
              "      <td>1496259000</td>\n",
              "    </tr>\n",
              "  </tbody>\n",
              "</table>\n",
              "</div>"
            ],
            "text/plain": [
              "                                            subject         Customer  \\\n",
              "0                                          Cheaters      ambajirao_a   \n",
              "1                            Well, think again!!!!!     deekshasethi   \n",
              "2            Metlife is the worst insurance company            lijok   \n",
              "3                       HAVE U MET LIFE TODAY??????           Kiran4   \n",
              "4  Irresponsible persons  working over there in PNB  srikanthkumar.a   \n",
              "\n",
              "                     Location  Rating  Views  Total_reviews_by_customer  \\\n",
              "0             Bangalore India       1   9558                          2   \n",
              "1             new delhi india       4   3548                          7   \n",
              "2                 Kochi India       1   9311                          1   \n",
              "3                mumbai india       4  15309                         15   \n",
              "4  Bengaluru/ Bangalore India       1   3480                          1   \n",
              "\n",
              "   Customer_follower  date_timeYear  date_timeMonth  date_timeWeek  \\\n",
              "0                  1           2014               4             17   \n",
              "1                  6           2006               3             11   \n",
              "2                  0           2013               6             23   \n",
              "3                 28           2004              10             42   \n",
              "4                  0           2017               5             22   \n",
              "\n",
              "   date_timeDay  date_timeDayofweek  date_timeDayofyear  \\\n",
              "0            22                   1                 112   \n",
              "1            13                   0                  72   \n",
              "2             4                   1                 155   \n",
              "3            14                   3                 288   \n",
              "4            31                   2                 151   \n",
              "\n",
              "   date_timeIs_month_end  date_timeIs_month_start  date_timeIs_quarter_end  \\\n",
              "0                  False                    False                    False   \n",
              "1                  False                    False                    False   \n",
              "2                  False                    False                    False   \n",
              "3                  False                    False                    False   \n",
              "4                   True                    False                    False   \n",
              "\n",
              "   date_timeIs_quarter_start  date_timeIs_year_end  date_timeIs_year_start  \\\n",
              "0                      False                 False                   False   \n",
              "1                      False                 False                   False   \n",
              "2                      False                 False                   False   \n",
              "3                      False                 False                   False   \n",
              "4                      False                 False                   False   \n",
              "\n",
              "   date_timeElapsed  \n",
              "0        1398187320  \n",
              "1        1142286060  \n",
              "2        1370336880  \n",
              "3        1097762760  \n",
              "4        1496259000  "
            ]
          },
          "metadata": {
            "tags": []
          },
          "execution_count": 43
        }
      ]
    },
    {
      "metadata": {
        "id": "ThhbSn_BFK0h",
        "colab_type": "code",
        "outputId": "d11906a3-5a4d-428c-c1af-436b9e5a8856",
        "colab": {
          "base_uri": "https://localhost:8080/",
          "height": 182
        }
      },
      "cell_type": "code",
      "source": [
        "data.head(2)"
      ],
      "execution_count": 44,
      "outputs": [
        {
          "output_type": "execute_result",
          "data": {
            "text/html": [
              "<div>\n",
              "<style scoped>\n",
              "    .dataframe tbody tr th:only-of-type {\n",
              "        vertical-align: middle;\n",
              "    }\n",
              "\n",
              "    .dataframe tbody tr th {\n",
              "        vertical-align: top;\n",
              "    }\n",
              "\n",
              "    .dataframe thead th {\n",
              "        text-align: right;\n",
              "    }\n",
              "</style>\n",
              "<table border=\"1\" class=\"dataframe\">\n",
              "  <thead>\n",
              "    <tr style=\"text-align: right;\">\n",
              "      <th></th>\n",
              "      <th>subject</th>\n",
              "      <th>Customer</th>\n",
              "      <th>Location</th>\n",
              "      <th>Rating</th>\n",
              "      <th>Views</th>\n",
              "      <th>Total_reviews_by_customer</th>\n",
              "      <th>Customer_follower</th>\n",
              "      <th>date_timeYear</th>\n",
              "      <th>date_timeMonth</th>\n",
              "      <th>date_timeWeek</th>\n",
              "      <th>date_timeDay</th>\n",
              "      <th>date_timeDayofweek</th>\n",
              "      <th>date_timeDayofyear</th>\n",
              "      <th>date_timeIs_month_end</th>\n",
              "      <th>date_timeIs_month_start</th>\n",
              "      <th>date_timeIs_quarter_end</th>\n",
              "      <th>date_timeIs_quarter_start</th>\n",
              "      <th>date_timeIs_year_end</th>\n",
              "      <th>date_timeIs_year_start</th>\n",
              "      <th>date_timeElapsed</th>\n",
              "    </tr>\n",
              "  </thead>\n",
              "  <tbody>\n",
              "    <tr>\n",
              "      <th>0</th>\n",
              "      <td>Cheaters</td>\n",
              "      <td>ambajirao_a</td>\n",
              "      <td>Bangalore India</td>\n",
              "      <td>1</td>\n",
              "      <td>9558</td>\n",
              "      <td>2</td>\n",
              "      <td>1</td>\n",
              "      <td>2014</td>\n",
              "      <td>4</td>\n",
              "      <td>17</td>\n",
              "      <td>22</td>\n",
              "      <td>1</td>\n",
              "      <td>112</td>\n",
              "      <td>False</td>\n",
              "      <td>False</td>\n",
              "      <td>False</td>\n",
              "      <td>False</td>\n",
              "      <td>False</td>\n",
              "      <td>False</td>\n",
              "      <td>1398187320</td>\n",
              "    </tr>\n",
              "    <tr>\n",
              "      <th>1</th>\n",
              "      <td>Well, think again!!!!!</td>\n",
              "      <td>deekshasethi</td>\n",
              "      <td>new delhi india</td>\n",
              "      <td>4</td>\n",
              "      <td>3548</td>\n",
              "      <td>7</td>\n",
              "      <td>6</td>\n",
              "      <td>2006</td>\n",
              "      <td>3</td>\n",
              "      <td>11</td>\n",
              "      <td>13</td>\n",
              "      <td>0</td>\n",
              "      <td>72</td>\n",
              "      <td>False</td>\n",
              "      <td>False</td>\n",
              "      <td>False</td>\n",
              "      <td>False</td>\n",
              "      <td>False</td>\n",
              "      <td>False</td>\n",
              "      <td>1142286060</td>\n",
              "    </tr>\n",
              "  </tbody>\n",
              "</table>\n",
              "</div>"
            ],
            "text/plain": [
              "                  subject      Customer         Location  Rating  Views  \\\n",
              "0                Cheaters   ambajirao_a  Bangalore India       1   9558   \n",
              "1  Well, think again!!!!!  deekshasethi  new delhi india       4   3548   \n",
              "\n",
              "   Total_reviews_by_customer  Customer_follower  date_timeYear  \\\n",
              "0                          2                  1           2014   \n",
              "1                          7                  6           2006   \n",
              "\n",
              "   date_timeMonth  date_timeWeek  date_timeDay  date_timeDayofweek  \\\n",
              "0               4             17            22                   1   \n",
              "1               3             11            13                   0   \n",
              "\n",
              "   date_timeDayofyear  date_timeIs_month_end  date_timeIs_month_start  \\\n",
              "0                 112                  False                    False   \n",
              "1                  72                  False                    False   \n",
              "\n",
              "   date_timeIs_quarter_end  date_timeIs_quarter_start  date_timeIs_year_end  \\\n",
              "0                    False                      False                 False   \n",
              "1                    False                      False                 False   \n",
              "\n",
              "   date_timeIs_year_start  date_timeElapsed  \n",
              "0                   False        1398187320  \n",
              "1                   False        1142286060  "
            ]
          },
          "metadata": {
            "tags": []
          },
          "execution_count": 44
        }
      ]
    },
    {
      "metadata": {
        "id": "W7UqQBsJrtiH",
        "colab_type": "code",
        "colab": {
          "base_uri": "https://localhost:8080/",
          "height": 329
        },
        "outputId": "df39541e-c038-43fa-b8f3-819f60587820"
      },
      "cell_type": "code",
      "source": [
        "corr_matrix = data.corr()\n",
        "corr_matrix[\"Rating\"].sort_values(ascending=False)"
      ],
      "execution_count": 45,
      "outputs": [
        {
          "output_type": "execute_result",
          "data": {
            "text/plain": [
              "Rating                       1.000000\n",
              "date_timeIs_month_start      0.111630\n",
              "date_timeIs_quarter_start    0.078305\n",
              "Total_reviews_by_customer    0.072051\n",
              "Views                        0.046560\n",
              "Customer_follower            0.046113\n",
              "date_timeDayofweek           0.029732\n",
              "date_timeDay                -0.002822\n",
              "date_timeMonth              -0.016996\n",
              "date_timeDayofyear          -0.017393\n",
              "date_timeWeek               -0.033870\n",
              "date_timeIs_month_end       -0.049691\n",
              "date_timeYear               -0.229672\n",
              "date_timeElapsed            -0.229928\n",
              "date_timeIs_quarter_end           NaN\n",
              "date_timeIs_year_end              NaN\n",
              "date_timeIs_year_start            NaN\n",
              "Name: Rating, dtype: float64"
            ]
          },
          "metadata": {
            "tags": []
          },
          "execution_count": 45
        }
      ]
    },
    {
      "metadata": {
        "id": "I7VB80bTJEfK",
        "colab_type": "code",
        "colab": {
          "base_uri": "https://localhost:8080/",
          "height": 859
        },
        "outputId": "d546bf52-8ce3-41cb-f77e-c91b1a82d83a"
      },
      "cell_type": "code",
      "source": [
        "from pandas.tools.plotting import scatter_matrix\n",
        "attributes =[\"Rating\",\"Views\",\"Total_reviews_by_customer\",\"Customer_follower\"]\n",
        "scatter_matrix(data[attributes], figsize=(12,8))\n"
      ],
      "execution_count": 46,
      "outputs": [
        {
          "output_type": "stream",
          "text": [
            "/usr/local/lib/python3.6/dist-packages/ipykernel_launcher.py:3: FutureWarning: 'pandas.tools.plotting.scatter_matrix' is deprecated, import 'pandas.plotting.scatter_matrix' instead.\n",
            "  This is separate from the ipykernel package so we can avoid doing imports until\n"
          ],
          "name": "stderr"
        },
        {
          "output_type": "execute_result",
          "data": {
            "text/plain": [
              "array([[<matplotlib.axes._subplots.AxesSubplot object at 0x7fb180d27588>,\n",
              "        <matplotlib.axes._subplots.AxesSubplot object at 0x7fb180c9d5f8>,\n",
              "        <matplotlib.axes._subplots.AxesSubplot object at 0x7fb180cc2c18>,\n",
              "        <matplotlib.axes._subplots.AxesSubplot object at 0x7fb180c705c0>],\n",
              "       [<matplotlib.axes._subplots.AxesSubplot object at 0x7fb180c15f28>,\n",
              "        <matplotlib.axes._subplots.AxesSubplot object at 0x7fb180c428d0>,\n",
              "        <matplotlib.axes._subplots.AxesSubplot object at 0x7fb180bf0278>,\n",
              "        <matplotlib.axes._subplots.AxesSubplot object at 0x7fb180b97b38>],\n",
              "       [<matplotlib.axes._subplots.AxesSubplot object at 0x7fb180b97b70>,\n",
              "        <matplotlib.axes._subplots.AxesSubplot object at 0x7fb180b69e10>,\n",
              "        <matplotlib.axes._subplots.AxesSubplot object at 0x7fb180b177b8>,\n",
              "        <matplotlib.axes._subplots.AxesSubplot object at 0x7fb180b45160>],\n",
              "       [<matplotlib.axes._subplots.AxesSubplot object at 0x7fb180ae8ac8>,\n",
              "        <matplotlib.axes._subplots.AxesSubplot object at 0x7fb180a99470>,\n",
              "        <matplotlib.axes._subplots.AxesSubplot object at 0x7fb180abcdd8>,\n",
              "        <matplotlib.axes._subplots.AxesSubplot object at 0x7fb180a6b780>]],\n",
              "      dtype=object)"
            ]
          },
          "metadata": {
            "tags": []
          },
          "execution_count": 46
        },
        {
          "output_type": "display_data",
          "data": {
            "image/png": "[encoded data removed]",
            "text/plain": [
              "<Figure size 864x576 with 16 Axes>"
            ]
          },
          "metadata": {
            "tags": []
          }
        }
      ]
    },
    {
      "metadata": {
        "id": "xL5LAex_MiyO",
        "colab_type": "code",
        "outputId": "e9ea70f8-a7e8-4156-843a-5072f04b7d15",
        "colab": {
          "base_uri": "https://localhost:8080/",
          "height": 479
        }
      },
      "cell_type": "code",
      "source": [
        "import seaborn as sns\n",
        "sns.heatmap(data.corr(),cmap='YlGnBu')"
      ],
      "execution_count": 47,
      "outputs": [
        {
          "output_type": "execute_result",
          "data": {
            "text/plain": [
              "<matplotlib.axes._subplots.AxesSubplot at 0x7fb180d274e0>"
            ]
          },
          "metadata": {
            "tags": []
          },
          "execution_count": 47
        },
        {
          "output_type": "display_data",
          "data": {
            "image/png": "[encoded data removed]",
            "text/plain": [
              "<Figure size 576x396 with 2 Axes>"
            ]
          },
          "metadata": {
            "tags": []
          }
        }
      ]
    },
    {
      "metadata": {
        "id": "eoF_3vLBNqeh",
        "colab_type": "text"
      },
      "cell_type": "markdown",
      "source": [
        "**Sentiment Analysis on the attribute \"Subject\"**"
      ]
    },
    {
      "metadata": {
        "id": "cACyjPbVOgls",
        "colab_type": "code",
        "outputId": "09102f71-bbf3-4867-ef1c-989b3d834049",
        "colab": {
          "base_uri": "https://localhost:8080/",
          "height": 176
        }
      },
      "cell_type": "code",
      "source": [
        "data[\"class\"]=np.zeros([data.shape[0],1])\n",
        "data[\"class\"].loc[data.Rating>=3]=1\n",
        "data[\"class\"].head(2)"
      ],
      "execution_count": 48,
      "outputs": [
        {
          "output_type": "stream",
          "text": [
            "/usr/local/lib/python3.6/dist-packages/pandas/core/indexing.py:194: SettingWithCopyWarning: \n",
            "A value is trying to be set on a copy of a slice from a DataFrame\n",
            "\n",
            "See the caveats in the documentation: http://pandas.pydata.org/pandas-docs/stable/indexing.html#indexing-view-versus-copy\n",
            "  self._setitem_with_indexer(indexer, value)\n"
          ],
          "name": "stderr"
        },
        {
          "output_type": "execute_result",
          "data": {
            "text/plain": [
              "0    0.0\n",
              "1    1.0\n",
              "Name: class, dtype: float64"
            ]
          },
          "metadata": {
            "tags": []
          },
          "execution_count": 48
        }
      ]
    },
    {
      "metadata": {
        "id": "qw2Y1in2Si3f",
        "colab_type": "code",
        "colab": {}
      },
      "cell_type": "code",
      "source": [
        "X = data[\"subject\"]\n",
        "y = data[\"class\"]"
      ],
      "execution_count": 0,
      "outputs": []
    },
    {
      "metadata": {
        "id": "2saGFl0MZYLi",
        "colab_type": "text"
      },
      "cell_type": "markdown",
      "source": [
        "**Training and testing split is performed as 80-20%**"
      ]
    },
    {
      "metadata": {
        "id": "ZENlaDchM4rY",
        "colab_type": "code",
        "outputId": "80338a66-9e8d-47a2-8cbc-48028baf30a0",
        "colab": {
          "base_uri": "https://localhost:8080/",
          "height": 35
        }
      },
      "cell_type": "code",
      "source": [
        "#Train test split\n",
        "from sklearn.model_selection import train_test_split\n",
        "Xtrain, Xval, ytrain, yval = train_test_split(X, y, test_size=0.2)\n",
        "Xtrain.shape, ytrain.shape, Xval.shape, yval.shape"
      ],
      "execution_count": 50,
      "outputs": [
        {
          "output_type": "execute_result",
          "data": {
            "text/plain": [
              "((102,), (102,), (26,), (26,))"
            ]
          },
          "metadata": {
            "tags": []
          },
          "execution_count": 50
        }
      ]
    },
    {
      "metadata": {
        "id": "w48loN9ZOfHW",
        "colab_type": "code",
        "outputId": "e7c8ae42-fb76-40a7-8b3d-101fc14f3942",
        "colab": {
          "base_uri": "https://localhost:8080/",
          "height": 365
        }
      },
      "cell_type": "code",
      "source": [
        "data[\"class\"].hist()"
      ],
      "execution_count": 51,
      "outputs": [
        {
          "output_type": "execute_result",
          "data": {
            "text/plain": [
              "<matplotlib.axes._subplots.AxesSubplot at 0x7fb18080b748>"
            ]
          },
          "metadata": {
            "tags": []
          },
          "execution_count": 51
        },
        {
          "output_type": "display_data",
          "data": {
            "image/png": "[encoded data removed]",
            "text/plain": [
              "<Figure size 576x396 with 1 Axes>"
            ]
          },
          "metadata": {
            "tags": []
          }
        }
      ]
    },
    {
      "metadata": {
        "id": "PSkYym5KS2pM",
        "colab_type": "code",
        "colab": {}
      },
      "cell_type": "code",
      "source": [
        "from sklearn.feature_extraction.text import CountVectorizer"
      ],
      "execution_count": 0,
      "outputs": []
    },
    {
      "metadata": {
        "id": "XIKhhT60ZqvH",
        "colab_type": "text"
      },
      "cell_type": "markdown",
      "source": [
        "**The bag-of-words model is a simplifying representation used in natural language processing and information retrieval (IR). In this model, a text (such as a sentence or a document) is represented as the bag (multiset) of its words, disregarding grammar and even word order but keeping multiplicity.**\n"
      ]
    },
    {
      "metadata": {
        "id": "ylTJbr3nZzHC",
        "colab_type": "text"
      },
      "cell_type": "markdown",
      "source": [
        "**Stopword-a word that is automatically omitted from a computer-generated concordance or index.**\n",
        "**Example : is,the **\n",
        "**These stopwords are removed from the analysis**"
      ]
    },
    {
      "metadata": {
        "id": "Yf7qIVgpTJMP",
        "colab_type": "code",
        "colab": {}
      },
      "cell_type": "code",
      "source": [
        "veczr = CountVectorizer(ngram_range=(1,3 ), lowercase = True, stop_words='english')"
      ],
      "execution_count": 0,
      "outputs": []
    },
    {
      "metadata": {
        "id": "sffXxPMkULDK",
        "colab_type": "code",
        "colab": {}
      },
      "cell_type": "code",
      "source": [
        "veczr.fit(Xtrain)\n",
        "trn_term = veczr.transform(Xtrain)\n",
        "val_term = veczr.transform(Xval)"
      ],
      "execution_count": 0,
      "outputs": []
    },
    {
      "metadata": {
        "id": "b1ZJTUeosC9Q",
        "colab_type": "text"
      },
      "cell_type": "markdown",
      "source": [
        "**SVM**"
      ]
    },
    {
      "metadata": {
        "id": "0HumOkLHr-JP",
        "colab_type": "code",
        "colab": {
          "base_uri": "https://localhost:8080/",
          "height": 87
        },
        "outputId": "1cbc7bbf-5c3a-4bf0-e1ca-d59298663a1e"
      },
      "cell_type": "code",
      "source": [
        "from sklearn import svm\n",
        "model_SVM = svm.SVC(gamma='scale')\n",
        "model_SVM.fit(trn_term, ytrain)  "
      ],
      "execution_count": 56,
      "outputs": [
        {
          "output_type": "execute_result",
          "data": {
            "text/plain": [
              "SVC(C=1.0, cache_size=200, class_weight=None, coef0=0.0,\n",
              "  decision_function_shape='ovr', degree=3, gamma='scale', kernel='rbf',\n",
              "  max_iter=-1, probability=False, random_state=None, shrinking=True,\n",
              "  tol=0.001, verbose=False)"
            ]
          },
          "metadata": {
            "tags": []
          },
          "execution_count": 56
        }
      ]
    },
    {
      "metadata": {
        "id": "4aPfsZ-8sGBJ",
        "colab_type": "code",
        "colab": {
          "base_uri": "https://localhost:8080/",
          "height": 35
        },
        "outputId": "6ab90fee-3b58-4871-c145-5e76a5290ad8"
      },
      "cell_type": "code",
      "source": [
        "prediction = model_SVM.predict(trn_term)\n",
        "prediction_val = model_SVM.predict(val_term)\n",
        "np.sum(prediction==ytrain)/len(ytrain), np.sum(prediction_val==yval)/len(yval)"
      ],
      "execution_count": 57,
      "outputs": [
        {
          "output_type": "execute_result",
          "data": {
            "text/plain": [
              "(0.8627450980392157, 0.8076923076923077)"
            ]
          },
          "metadata": {
            "tags": []
          },
          "execution_count": 57
        }
      ]
    },
    {
      "metadata": {
        "id": "xy1E-FwmsHgI",
        "colab_type": "code",
        "colab": {
          "base_uri": "https://localhost:8080/",
          "height": 52
        },
        "outputId": "a3f71da9-5b1e-40f1-c7eb-cfef20b08e31"
      },
      "cell_type": "code",
      "source": [
        "from sklearn.metrics import confusion_matrix \n",
        "confusion_matrix( ytrain, prediction)"
      ],
      "execution_count": 58,
      "outputs": [
        {
          "output_type": "execute_result",
          "data": {
            "text/plain": [
              "array([[82,  0],\n",
              "       [14,  6]])"
            ]
          },
          "metadata": {
            "tags": []
          },
          "execution_count": 58
        }
      ]
    },
    {
      "metadata": {
        "id": "CnrKpukcsI_l",
        "colab_type": "text"
      },
      "cell_type": "markdown",
      "source": [
        ""
      ]
    },
    {
      "metadata": {
        "id": "FrMjjlIqsVg5",
        "colab_type": "text"
      },
      "cell_type": "markdown",
      "source": [
        "**Multinomial naive bayes**"
      ]
    },
    {
      "metadata": {
        "id": "GTf04F51scEs",
        "colab_type": "code",
        "colab": {
          "base_uri": "https://localhost:8080/",
          "height": 35
        },
        "outputId": "abf855af-3da8-41c0-8139-5e1f9b1f779e"
      },
      "cell_type": "code",
      "source": [
        "from sklearn.naive_bayes import MultinomialNB\n",
        "model_MNB = MultinomialNB()\n",
        "model_MNB.fit(trn_term,ytrain)\n"
      ],
      "execution_count": 59,
      "outputs": [
        {
          "output_type": "execute_result",
          "data": {
            "text/plain": [
              "MultinomialNB(alpha=1.0, class_prior=None, fit_prior=True)"
            ]
          },
          "metadata": {
            "tags": []
          },
          "execution_count": 59
        }
      ]
    },
    {
      "metadata": {
        "id": "MemcJ0-asbj3",
        "colab_type": "code",
        "colab": {
          "base_uri": "https://localhost:8080/",
          "height": 35
        },
        "outputId": "b9902d31-151d-46a6-9c7c-8c14fda4ba99"
      },
      "cell_type": "code",
      "source": [
        "prediction = model_MNB.predict(trn_term)\n",
        "prediction_val = model_MNB.predict(val_term)\n",
        "np.sum(prediction==ytrain)/len(ytrain), np.sum(prediction_val==yval)/len(yval)"
      ],
      "execution_count": 60,
      "outputs": [
        {
          "output_type": "execute_result",
          "data": {
            "text/plain": [
              "(0.9509803921568627, 0.8076923076923077)"
            ]
          },
          "metadata": {
            "tags": []
          },
          "execution_count": 60
        }
      ]
    },
    {
      "metadata": {
        "id": "86Qu6bqFsbKe",
        "colab_type": "code",
        "colab": {
          "base_uri": "https://localhost:8080/",
          "height": 52
        },
        "outputId": "2aba6b61-e0a6-4bb6-9ad7-eb02ba013e79"
      },
      "cell_type": "code",
      "source": [
        "from sklearn.metrics import confusion_matrix \n",
        "confusion_matrix( ytrain, prediction)"
      ],
      "execution_count": 61,
      "outputs": [
        {
          "output_type": "execute_result",
          "data": {
            "text/plain": [
              "array([[81,  1],\n",
              "       [ 4, 16]])"
            ]
          },
          "metadata": {
            "tags": []
          },
          "execution_count": 61
        }
      ]
    },
    {
      "metadata": {
        "id": "0Yv5_NccaI3f",
        "colab_type": "text"
      },
      "cell_type": "markdown",
      "source": [
        "**Logistic regression is the appropriate regression analysis to conduct when the dependent variable is dichotomous (binary).  Like all regression analyses, the logistic regression is a predictive analysis.  Logistic regression is used to describe data and to explain the relationship between one dependent binary variable and one or more nominal, ordinal, interval or ratio-level independent variables**"
      ]
    },
    {
      "metadata": {
        "id": "_ATBMa5-TfiP",
        "colab_type": "code",
        "outputId": "4b84ecbe-9b25-4a22-c2c4-c8188ceccc6b",
        "colab": {
          "base_uri": "https://localhost:8080/",
          "height": 141
        }
      },
      "cell_type": "code",
      "source": [
        "from sklearn.linear_model import LogisticRegression\n",
        "model = LogisticRegression(C=0.1, dual=True)\n",
        "model.fit(trn_term, ytrain)"
      ],
      "execution_count": 62,
      "outputs": [
        {
          "output_type": "stream",
          "text": [
            "/usr/local/lib/python3.6/dist-packages/sklearn/linear_model/logistic.py:433: FutureWarning: Default solver will be changed to 'lbfgs' in 0.22. Specify a solver to silence this warning.\n",
            "  FutureWarning)\n"
          ],
          "name": "stderr"
        },
        {
          "output_type": "execute_result",
          "data": {
            "text/plain": [
              "LogisticRegression(C=0.1, class_weight=None, dual=True, fit_intercept=True,\n",
              "          intercept_scaling=1, max_iter=100, multi_class='warn',\n",
              "          n_jobs=None, penalty='l2', random_state=None, solver='warn',\n",
              "          tol=0.0001, verbose=0, warm_start=False)"
            ]
          },
          "metadata": {
            "tags": []
          },
          "execution_count": 62
        }
      ]
    },
    {
      "metadata": {
        "id": "V_4K-kz9VaPz",
        "colab_type": "code",
        "outputId": "34369994-200c-494d-ae99-269922712a50",
        "colab": {
          "base_uri": "https://localhost:8080/",
          "height": 35
        }
      },
      "cell_type": "code",
      "source": [
        "prediction = model.predict(trn_term)\n",
        "prediction_val = model.predict(val_term)\n",
        "np.sum(prediction==ytrain)/len(ytrain), np.sum(prediction_val==yval)/len(yval)\n",
        "                                                                       "
      ],
      "execution_count": 63,
      "outputs": [
        {
          "output_type": "execute_result",
          "data": {
            "text/plain": [
              "(0.803921568627451, 0.8076923076923077)"
            ]
          },
          "metadata": {
            "tags": []
          },
          "execution_count": 63
        }
      ]
    },
    {
      "metadata": {
        "id": "o60Mgyu1VzHJ",
        "colab_type": "code",
        "outputId": "9950ccde-40ce-4397-924b-1e109e467687",
        "colab": {
          "base_uri": "https://localhost:8080/",
          "height": 52
        }
      },
      "cell_type": "code",
      "source": [
        "from sklearn.metrics import confusion_matrix \n",
        "confusion_matrix( ytrain, prediction)"
      ],
      "execution_count": 64,
      "outputs": [
        {
          "output_type": "execute_result",
          "data": {
            "text/plain": [
              "array([[82,  0],\n",
              "       [20,  0]])"
            ]
          },
          "metadata": {
            "tags": []
          },
          "execution_count": 64
        }
      ]
    },
    {
      "metadata": {
        "id": "CF0U1qiTaiDQ",
        "colab_type": "text"
      },
      "cell_type": "markdown",
      "source": [
        "**Inference : 84 values are predicted correctly and 20 or not.**"
      ]
    },
    {
      "metadata": {
        "id": "Nlp9fY2qsyfx",
        "colab_type": "text"
      },
      "cell_type": "markdown",
      "source": [
        "** Random forest Classifier**"
      ]
    },
    {
      "metadata": {
        "id": "bUB3dJihWTRe",
        "colab_type": "code",
        "colab": {}
      },
      "cell_type": "code",
      "source": [
        "from sklearn.ensemble import RandomForestClassifier\n",
        "model_RF = RandomForestClassifier(n_estimators=10)"
      ],
      "execution_count": 0,
      "outputs": []
    },
    {
      "metadata": {
        "id": "Gk36Vez4c03y",
        "colab_type": "code",
        "colab": {}
      },
      "cell_type": "code",
      "source": [
        "Xt = trn_term.sign()\n",
        "Xv = val_term.sign()"
      ],
      "execution_count": 0,
      "outputs": []
    },
    {
      "metadata": {
        "id": "XraMOjTGcsSd",
        "colab_type": "code",
        "outputId": "9be46fb9-0320-4a93-ce5e-8ed2f16342d6",
        "colab": {
          "base_uri": "https://localhost:8080/",
          "height": 139
        }
      },
      "cell_type": "code",
      "source": [
        "model_RF.fit(Xt, ytrain)"
      ],
      "execution_count": 67,
      "outputs": [
        {
          "output_type": "execute_result",
          "data": {
            "text/plain": [
              "RandomForestClassifier(bootstrap=True, class_weight=None, criterion='gini',\n",
              "            max_depth=None, max_features='auto', max_leaf_nodes=None,\n",
              "            min_impurity_decrease=0.0, min_impurity_split=None,\n",
              "            min_samples_leaf=1, min_samples_split=2,\n",
              "            min_weight_fraction_leaf=0.0, n_estimators=10, n_jobs=None,\n",
              "            oob_score=False, random_state=None, verbose=0,\n",
              "            warm_start=False)"
            ]
          },
          "metadata": {
            "tags": []
          },
          "execution_count": 67
        }
      ]
    },
    {
      "metadata": {
        "id": "ZGwcsDQlc__T",
        "colab_type": "code",
        "outputId": "8742ab75-c3dd-4bf8-9d20-9f96a7512e20",
        "colab": {
          "base_uri": "https://localhost:8080/",
          "height": 35
        }
      },
      "cell_type": "code",
      "source": [
        "prediction = model_RF.predict(Xt)\n",
        "prediction_val = model_RF.predict(Xv)\n",
        "\n",
        "np.sum(prediction==ytrain)/len(ytrain), np.sum(prediction_val==yval)/len(yval)"
      ],
      "execution_count": 68,
      "outputs": [
        {
          "output_type": "execute_result",
          "data": {
            "text/plain": [
              "(0.9803921568627451, 0.6923076923076923)"
            ]
          },
          "metadata": {
            "tags": []
          },
          "execution_count": 68
        }
      ]
    },
    {
      "metadata": {
        "id": "oSC6M1xbtKmp",
        "colab_type": "code",
        "colab": {
          "base_uri": "https://localhost:8080/",
          "height": 52
        },
        "outputId": "bc3a18d3-5403-489c-de38-550cf3816342"
      },
      "cell_type": "code",
      "source": [
        "from sklearn.metrics import confusion_matrix \n",
        "confusion_matrix( ytrain, prediction)"
      ],
      "execution_count": 69,
      "outputs": [
        {
          "output_type": "execute_result",
          "data": {
            "text/plain": [
              "array([[81,  1],\n",
              "       [ 1, 19]])"
            ]
          },
          "metadata": {
            "tags": []
          },
          "execution_count": 69
        }
      ]
    },
    {
      "metadata": {
        "id": "kG8sHk3us8oC",
        "colab_type": "text"
      },
      "cell_type": "markdown",
      "source": [
        "** Grid Search **"
      ]
    },
    {
      "metadata": {
        "id": "WsYm9Sq2ebil",
        "colab_type": "code",
        "colab": {
          "base_uri": "https://localhost:8080/",
          "height": 280
        },
        "outputId": "3c5e7511-cb3c-400d-9227-1c7e8f4386ba"
      },
      "cell_type": "code",
      "source": [
        "from sklearn.model_selection import GridSearchCV\n",
        "param_grid = [\n",
        "    {'n_estimators': [3,10,30], 'max_features': [2,4,6,8]},\n",
        "    {'bootstrap' : [False],'n_estimators': [3,10], 'max_features': [2, 3, 4]}\n",
        "]\n",
        "\n",
        "grid_search = GridSearchCV(model_RF, param_grid, cv=5, scoring='accuracy')\n",
        "grid_search.fit(trn_term, ytrain)"
      ],
      "execution_count": 70,
      "outputs": [
        {
          "output_type": "stream",
          "text": [
            "/usr/local/lib/python3.6/dist-packages/sklearn/model_selection/_search.py:841: DeprecationWarning: The default of the `iid` parameter will change from True to False in version 0.22 and will be removed in 0.24. This will change numeric results when test-set sizes are unequal.\n",
            "  DeprecationWarning)\n"
          ],
          "name": "stderr"
        },
        {
          "output_type": "execute_result",
          "data": {
            "text/plain": [
              "GridSearchCV(cv=5, error_score='raise-deprecating',\n",
              "       estimator=RandomForestClassifier(bootstrap=True, class_weight=None, criterion='gini',\n",
              "            max_depth=None, max_features='auto', max_leaf_nodes=None,\n",
              "            min_impurity_decrease=0.0, min_impurity_split=None,\n",
              "            min_samples_leaf=1, min_samples_split=2,\n",
              "            min_weight_fraction_leaf=0.0, n_estimators=10, n_jobs=None,\n",
              "            oob_score=False, random_state=None, verbose=0,\n",
              "            warm_start=False),\n",
              "       fit_params=None, iid='warn', n_jobs=None,\n",
              "       param_grid=[{'n_estimators': [3, 10, 30], 'max_features': [2, 4, 6, 8]}, {'bootstrap': [False], 'n_estimators': [3, 10], 'max_features': [2, 3, 4]}],\n",
              "       pre_dispatch='2*n_jobs', refit=True, return_train_score='warn',\n",
              "       scoring='accuracy', verbose=0)"
            ]
          },
          "metadata": {
            "tags": []
          },
          "execution_count": 70
        }
      ]
    },
    {
      "metadata": {
        "id": "fFma0tnledWk",
        "colab_type": "code",
        "outputId": "248fc499-1abf-4eb9-ad9d-d182571a8637",
        "colab": {
          "base_uri": "https://localhost:8080/",
          "height": 35
        }
      },
      "cell_type": "code",
      "source": [
        "grid_search.best_params_"
      ],
      "execution_count": 71,
      "outputs": [
        {
          "output_type": "execute_result",
          "data": {
            "text/plain": [
              "{'max_features': 2, 'n_estimators': 10}"
            ]
          },
          "metadata": {
            "tags": []
          },
          "execution_count": 71
        }
      ]
    },
    {
      "metadata": {
        "id": "hAUo3a7Ve3us",
        "colab_type": "code",
        "colab": {
          "base_uri": "https://localhost:8080/",
          "height": 2152
        },
        "outputId": "6b4b0d17-9b80-4dab-850a-8d17a9a39332"
      },
      "cell_type": "code",
      "source": [
        "grid_search.cv_results_\n"
      ],
      "execution_count": 34,
      "outputs": [
        {
          "output_type": "stream",
          "text": [
            "/usr/local/lib/python3.6/dist-packages/sklearn/utils/deprecation.py:125: FutureWarning: You are accessing a training score ('mean_train_score'), which will not be available by default any more in 0.21. If you need training scores, please set return_train_score=True\n",
            "  warnings.warn(*warn_args, **warn_kwargs)\n",
            "/usr/local/lib/python3.6/dist-packages/sklearn/utils/deprecation.py:125: FutureWarning: You are accessing a training score ('split0_train_score'), which will not be available by default any more in 0.21. If you need training scores, please set return_train_score=True\n",
            "  warnings.warn(*warn_args, **warn_kwargs)\n",
            "/usr/local/lib/python3.6/dist-packages/sklearn/utils/deprecation.py:125: FutureWarning: You are accessing a training score ('split1_train_score'), which will not be available by default any more in 0.21. If you need training scores, please set return_train_score=True\n",
            "  warnings.warn(*warn_args, **warn_kwargs)\n",
            "/usr/local/lib/python3.6/dist-packages/sklearn/utils/deprecation.py:125: FutureWarning: You are accessing a training score ('split2_train_score'), which will not be available by default any more in 0.21. If you need training scores, please set return_train_score=True\n",
            "  warnings.warn(*warn_args, **warn_kwargs)\n",
            "/usr/local/lib/python3.6/dist-packages/sklearn/utils/deprecation.py:125: FutureWarning: You are accessing a training score ('split3_train_score'), which will not be available by default any more in 0.21. If you need training scores, please set return_train_score=True\n",
            "  warnings.warn(*warn_args, **warn_kwargs)\n",
            "/usr/local/lib/python3.6/dist-packages/sklearn/utils/deprecation.py:125: FutureWarning: You are accessing a training score ('split4_train_score'), which will not be available by default any more in 0.21. If you need training scores, please set return_train_score=True\n",
            "  warnings.warn(*warn_args, **warn_kwargs)\n",
            "/usr/local/lib/python3.6/dist-packages/sklearn/utils/deprecation.py:125: FutureWarning: You are accessing a training score ('std_train_score'), which will not be available by default any more in 0.21. If you need training scores, please set return_train_score=True\n",
            "  warnings.warn(*warn_args, **warn_kwargs)\n"
          ],
          "name": "stderr"
        },
        {
          "output_type": "execute_result",
          "data": {
            "text/plain": [
              "{'mean_fit_time': array([0.00527492, 0.0105854 , 0.02795138, 0.00430532, 0.01059141,\n",
              "        0.02803807, 0.00431342, 0.01062088, 0.02836862, 0.00440998,\n",
              "        0.01069665, 0.02912297, 0.00438056, 0.0109983 , 0.00456648,\n",
              "        0.01146269, 0.00468154, 0.01122766]),\n",
              " 'mean_score_time': array([0.00119243, 0.00152745, 0.00284615, 0.00094485, 0.00154266,\n",
              "        0.00282111, 0.00091281, 0.0015079 , 0.00293174, 0.00091934,\n",
              "        0.00148787, 0.00283561, 0.00095267, 0.00157256, 0.00100856,\n",
              "        0.00160575, 0.00097489, 0.00155649]),\n",
              " 'mean_test_score': array([0.68627451, 0.71568627, 0.69607843, 0.65686275, 0.68627451,\n",
              "        0.69607843, 0.61764706, 0.67647059, 0.71568627, 0.64705882,\n",
              "        0.65686275, 0.67647059, 0.60784314, 0.65686275, 0.66666667,\n",
              "        0.62745098, 0.61764706, 0.64705882]),\n",
              " 'mean_train_score': array([0.92387835, 0.98527552, 1.        , 0.95094851, 0.97795845,\n",
              "        0.99756098, 0.93125565, 0.98533574, 0.99756098, 0.92643782,\n",
              "        0.98045769, 1.        , 1.        , 1.        , 1.        ,\n",
              "        1.        , 1.        , 1.        ]),\n",
              " 'param_bootstrap': masked_array(data=[--, --, --, --, --, --, --, --, --, --, --, --, False,\n",
              "                    False, False, False, False, False],\n",
              "              mask=[ True,  True,  True,  True,  True,  True,  True,  True,\n",
              "                     True,  True,  True,  True, False, False, False, False,\n",
              "                    False, False],\n",
              "        fill_value='?',\n",
              "             dtype=object),\n",
              " 'param_max_features': masked_array(data=[2, 2, 2, 4, 4, 4, 6, 6, 6, 8, 8, 8, 2, 2, 3, 3, 4, 4],\n",
              "              mask=[False, False, False, False, False, False, False, False,\n",
              "                    False, False, False, False, False, False, False, False,\n",
              "                    False, False],\n",
              "        fill_value='?',\n",
              "             dtype=object),\n",
              " 'param_n_estimators': masked_array(data=[3, 10, 30, 3, 10, 30, 3, 10, 30, 3, 10, 30, 3, 10, 3,\n",
              "                    10, 3, 10],\n",
              "              mask=[False, False, False, False, False, False, False, False,\n",
              "                    False, False, False, False, False, False, False, False,\n",
              "                    False, False],\n",
              "        fill_value='?',\n",
              "             dtype=object),\n",
              " 'params': [{'max_features': 2, 'n_estimators': 3},\n",
              "  {'max_features': 2, 'n_estimators': 10},\n",
              "  {'max_features': 2, 'n_estimators': 30},\n",
              "  {'max_features': 4, 'n_estimators': 3},\n",
              "  {'max_features': 4, 'n_estimators': 10},\n",
              "  {'max_features': 4, 'n_estimators': 30},\n",
              "  {'max_features': 6, 'n_estimators': 3},\n",
              "  {'max_features': 6, 'n_estimators': 10},\n",
              "  {'max_features': 6, 'n_estimators': 30},\n",
              "  {'max_features': 8, 'n_estimators': 3},\n",
              "  {'max_features': 8, 'n_estimators': 10},\n",
              "  {'max_features': 8, 'n_estimators': 30},\n",
              "  {'bootstrap': False, 'max_features': 2, 'n_estimators': 3},\n",
              "  {'bootstrap': False, 'max_features': 2, 'n_estimators': 10},\n",
              "  {'bootstrap': False, 'max_features': 3, 'n_estimators': 3},\n",
              "  {'bootstrap': False, 'max_features': 3, 'n_estimators': 10},\n",
              "  {'bootstrap': False, 'max_features': 4, 'n_estimators': 3},\n",
              "  {'bootstrap': False, 'max_features': 4, 'n_estimators': 10}],\n",
              " 'rank_test_score': array([ 5,  1,  3, 10,  5,  3, 16,  7,  1, 13, 10,  7, 18, 10,  9, 15, 16,\n",
              "        13], dtype=int32),\n",
              " 'split0_test_score': array([0.85714286, 0.71428571, 0.80952381, 0.57142857, 0.76190476,\n",
              "        0.85714286, 0.76190476, 0.9047619 , 0.85714286, 0.71428571,\n",
              "        0.66666667, 0.76190476, 0.61904762, 0.76190476, 0.66666667,\n",
              "        0.80952381, 0.66666667, 0.66666667]),\n",
              " 'split0_train_score': array([0.92592593, 0.98765432, 1.        , 0.92592593, 0.98765432,\n",
              "        1.        , 0.85185185, 0.98765432, 1.        , 0.95061728,\n",
              "        1.        , 1.        , 1.        , 1.        , 1.        ,\n",
              "        1.        , 1.        , 1.        ]),\n",
              " 'split1_test_score': array([0.42857143, 0.80952381, 0.66666667, 0.61904762, 0.61904762,\n",
              "        0.52380952, 0.57142857, 0.47619048, 0.47619048, 0.57142857,\n",
              "        0.42857143, 0.47619048, 0.61904762, 0.47619048, 0.61904762,\n",
              "        0.47619048, 0.52380952, 0.57142857]),\n",
              " 'split1_train_score': array([0.86419753, 0.97530864, 1.        , 0.96296296, 0.97530864,\n",
              "        1.        , 0.96296296, 1.        , 1.        , 0.88888889,\n",
              "        0.98765432, 1.        , 1.        , 1.        , 1.        ,\n",
              "        1.        , 1.        , 1.        ]),\n",
              " 'split2_test_score': array([0.7 , 0.8 , 0.8 , 0.7 , 0.75, 0.85, 0.65, 0.8 , 0.85, 0.85, 0.8 ,\n",
              "        0.85, 0.6 , 0.75, 0.85, 0.65, 0.8 , 0.75]),\n",
              " 'split2_train_score': array([0.93902439, 0.97560976, 1.        , 0.97560976, 0.97560976,\n",
              "        1.        , 0.95121951, 0.97560976, 0.98780488, 0.95121951,\n",
              "        0.95121951, 1.        , 1.        , 1.        , 1.        ,\n",
              "        1.        , 1.        , 1.        ]),\n",
              " 'split3_test_score': array([0.7 , 0.55, 0.5 , 0.75, 0.65, 0.55, 0.55, 0.55, 0.7 , 0.7 , 0.7 ,\n",
              "        0.7 , 0.55, 0.6 , 0.6 , 0.5 , 0.55, 0.55]),\n",
              " 'split3_train_score': array([0.93902439, 0.98780488, 1.        , 0.96341463, 0.96341463,\n",
              "        1.        , 0.96341463, 0.97560976, 1.        , 0.96341463,\n",
              "        0.98780488, 1.        , 1.        , 1.        , 1.        ,\n",
              "        1.        , 1.        , 1.        ]),\n",
              " 'split4_test_score': array([0.75, 0.7 , 0.7 , 0.65, 0.65, 0.7 , 0.55, 0.65, 0.7 , 0.4 , 0.7 ,\n",
              "        0.6 , 0.65, 0.7 , 0.6 , 0.7 , 0.55, 0.7 ]),\n",
              " 'split4_train_score': array([0.95121951, 1.        , 1.        , 0.92682927, 0.98780488,\n",
              "        0.98780488, 0.92682927, 0.98780488, 1.        , 0.87804878,\n",
              "        0.97560976, 1.        , 1.        , 1.        , 1.        ,\n",
              "        1.        , 1.        , 1.        ]),\n",
              " 'std_fit_time': array([8.72113570e-04, 2.25228700e-04, 3.15676737e-04, 4.40158150e-05,\n",
              "        2.89904114e-04, 2.58648510e-04, 5.43540818e-05, 2.35535953e-04,\n",
              "        2.86949279e-04, 9.34247271e-05, 2.14324962e-04, 8.09205310e-04,\n",
              "        5.44563066e-05, 2.98693072e-04, 1.08549484e-04, 5.56221501e-04,\n",
              "        2.11784173e-04, 5.78943808e-04]),\n",
              " 'std_score_time': array([1.82510480e-04, 2.68576598e-05, 3.76636765e-05, 2.15660115e-05,\n",
              "        6.61919024e-05, 8.31065747e-06, 3.68276374e-05, 5.97089998e-05,\n",
              "        1.53007868e-04, 3.34911493e-05, 4.02029436e-05, 4.11545552e-05,\n",
              "        1.86194989e-05, 4.83914308e-05, 1.57171198e-05, 3.29062556e-05,\n",
              "        2.20745221e-05, 3.47733641e-05]),\n",
              " 'std_test_score': array([0.14336634, 0.09294171, 0.11174505, 0.0622265 , 0.05848408,\n",
              "        0.14241983, 0.08200038, 0.15891514, 0.13986612, 0.15066995,\n",
              "        0.12448609, 0.13007955, 0.03268441, 0.10812924, 0.09380931,\n",
              "        0.12590639, 0.10306449, 0.07570543]),\n",
              " 'std_train_score': array([0.03089446, 0.00918294, 0.        , 0.02057083, 0.00911068,\n",
              "        0.00487805, 0.04186327, 0.00911814, 0.00487805, 0.0355457 ,\n",
              "        0.01652905, 0.        , 0.        , 0.        , 0.        ,\n",
              "        0.        , 0.        , 0.        ])}"
            ]
          },
          "metadata": {
            "tags": []
          },
          "execution_count": 34
        }
      ]
    },
    {
      "metadata": {
        "id": "8ahLtKjPfMDC",
        "colab_type": "code",
        "outputId": "b69a535c-cdf4-4c14-bf4d-e09b9bd3788a",
        "colab": {
          "base_uri": "https://localhost:8080/",
          "height": 35
        }
      },
      "cell_type": "code",
      "source": [
        "prediction = grid_search.predict(Xt)\n",
        "prediction_val = grid_search.predict(Xv)\n",
        "np.sum(prediction==ytrain)/len(ytrain), np.sum(prediction_val==yval)/len(yval)\n",
        "                                                                       "
      ],
      "execution_count": 72,
      "outputs": [
        {
          "output_type": "execute_result",
          "data": {
            "text/plain": [
              "(0.9901960784313726, 0.6923076923076923)"
            ]
          },
          "metadata": {
            "tags": []
          },
          "execution_count": 72
        }
      ]
    },
    {
      "metadata": {
        "id": "2yYo2ynqgPy7",
        "colab_type": "code",
        "colab": {
          "base_uri": "https://localhost:8080/",
          "height": 52
        },
        "outputId": "c9d0bb0f-1ce0-4728-837c-b77e6f36979a"
      },
      "cell_type": "code",
      "source": [
        "from sklearn.metrics import confusion_matrix \n",
        "confusion_matrix( ytrain, prediction)"
      ],
      "execution_count": 73,
      "outputs": [
        {
          "output_type": "execute_result",
          "data": {
            "text/plain": [
              "array([[82,  0],\n",
              "       [ 1, 19]])"
            ]
          },
          "metadata": {
            "tags": []
          },
          "execution_count": 73
        }
      ]
    }
  ]
}