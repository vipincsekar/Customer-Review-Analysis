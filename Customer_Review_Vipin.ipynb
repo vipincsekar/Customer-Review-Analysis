{
  "nbformat": 4,
  "nbformat_minor": 0,
  "metadata": {
    "colab": {
      "name": "Customer Review Vipin.ipynb",
      "version": "0.3.2",
      "provenance": [],
      "collapsed_sections": [],
      "include_colab_link": true
    },
    "kernelspec": {
      "name": "python3",
      "display_name": "Python 3"
    }
  },
  "cells": [
    {
      "cell_type": "markdown",
      "metadata": {
        "id": "view-in-github",
        "colab_type": "text"
      },
      "source": [
        "<a href=\"https://colab.research.google.com/github/vipincsekar/Customer-Review-Analysis/blob/master/Customer_Review_Vipin.ipynb\" target=\"_parent\"><img src=\"https://colab.research.google.com/assets/colab-badge.svg\" alt=\"Open In Colab\"/></a>"
      ]
    },
    {
      "metadata": {
        "id": "Y5dr9ILLAF4N",
        "colab_type": "code",
        "colab": {}
      },
      "cell_type": "code",
      "source": [
        "import pandas as pd\n",
        "import numpy as np\n",
        "import re\n",
        "import matplotlib.pyplot as plt"
      ],
      "execution_count": 0,
      "outputs": []
    },
    {
      "metadata": {
        "id": "NaaIEEPEAJUV",
        "colab_type": "code",
        "colab": {}
      },
      "cell_type": "code",
      "source": [
        "data = pd.read_csv(\"/content/dataset.csv\", encoding='ISO-8859-1')"
      ],
      "execution_count": 0,
      "outputs": []
    },
    {
      "metadata": {
        "id": "CCEIgJ_4AZCT",
        "colab_type": "code",
        "outputId": "5b3d1152-8973-4121-c3ce-5a32e11d8824",
        "colab": {
          "base_uri": "https://localhost:8080/",
          "height": 162
        }
      },
      "cell_type": "code",
      "source": [
        "data.head(2)"
      ],
      "execution_count": 0,
      "outputs": [
        {
          "output_type": "execute_result",
          "data": {
            "text/html": [
              "<div>\n",
              "<style scoped>\n",
              "    .dataframe tbody tr th:only-of-type {\n",
              "        vertical-align: middle;\n",
              "    }\n",
              "\n",
              "    .dataframe tbody tr th {\n",
              "        vertical-align: top;\n",
              "    }\n",
              "\n",
              "    .dataframe thead th {\n",
              "        text-align: right;\n",
              "    }\n",
              "</style>\n",
              "<table border=\"1\" class=\"dataframe\">\n",
              "  <thead>\n",
              "    <tr style=\"text-align: right;\">\n",
              "      <th></th>\n",
              "      <th>subject</th>\n",
              "      <th>Customer</th>\n",
              "      <th>Location</th>\n",
              "      <th>Rating</th>\n",
              "      <th>date_time</th>\n",
              "      <th>Views</th>\n",
              "      <th>Total_reviews_by_customer</th>\n",
              "      <th>Customer_follower</th>\n",
              "    </tr>\n",
              "  </thead>\n",
              "  <tbody>\n",
              "    <tr>\n",
              "      <th>0</th>\n",
              "      <td>Cheaters</td>\n",
              "      <td>ambajirao_a</td>\n",
              "      <td>Bangalore India</td>\n",
              "      <td>1</td>\n",
              "      <td>4/22/2014 17:22</td>\n",
              "      <td>9558</td>\n",
              "      <td>2.0</td>\n",
              "      <td>1</td>\n",
              "    </tr>\n",
              "    <tr>\n",
              "      <th>1</th>\n",
              "      <td>Well, think again!!!!!</td>\n",
              "      <td>deekshasethi</td>\n",
              "      <td>new delhi india</td>\n",
              "      <td>4</td>\n",
              "      <td>3/13/2006 21:41</td>\n",
              "      <td>3548</td>\n",
              "      <td>7.0</td>\n",
              "      <td>6</td>\n",
              "    </tr>\n",
              "  </tbody>\n",
              "</table>\n",
              "</div>"
            ],
            "text/plain": [
              "                  subject      Customer         Location  Rating  \\\n",
              "0                Cheaters   ambajirao_a  Bangalore India       1   \n",
              "1  Well, think again!!!!!  deekshasethi  new delhi india       4   \n",
              "\n",
              "         date_time Views  Total_reviews_by_customer  Customer_follower  \n",
              "0  4/22/2014 17:22  9558                        2.0                  1  \n",
              "1  3/13/2006 21:41  3548                        7.0                  6  "
            ]
          },
          "metadata": {
            "tags": []
          },
          "execution_count": 26
        }
      ]
    },
    {
      "metadata": {
        "id": "fYLmPEfeKezN",
        "colab_type": "code",
        "outputId": "aaf40874-e272-4a93-980c-92bc34575c3c",
        "colab": {
          "base_uri": "https://localhost:8080/",
          "height": 35
        }
      },
      "cell_type": "code",
      "source": [
        "data.shape"
      ],
      "execution_count": 0,
      "outputs": [
        {
          "output_type": "execute_result",
          "data": {
            "text/plain": [
              "(130, 8)"
            ]
          },
          "metadata": {
            "tags": []
          },
          "execution_count": 27
        }
      ]
    },
    {
      "metadata": {
        "id": "w5LCxrCLCVii",
        "colab_type": "code",
        "colab": {}
      },
      "cell_type": "code",
      "source": [
        "data[\"Location\"].value_counts()"
      ],
      "execution_count": 0,
      "outputs": []
    },
    {
      "metadata": {
        "id": "HIpBHx4aKsYt",
        "colab_type": "code",
        "outputId": "77934f45-e2b5-4278-d283-e94d52310260",
        "colab": {
          "base_uri": "https://localhost:8080/",
          "height": 312
        }
      },
      "cell_type": "code",
      "source": [
        "corr_matrix = data.corr()\n",
        "corr_matrix[\"Rating\"].sort_values(ascending=False)"
      ],
      "execution_count": 0,
      "outputs": [
        {
          "output_type": "execute_result",
          "data": {
            "text/plain": [
              "Rating                       1.000000\n",
              "date_timeIs_month_start      0.112877\n",
              "date_timeIs_quarter_start    0.079190\n",
              "Total_reviews_by_customer    0.072051\n",
              "Customer_follower            0.048019\n",
              "date_timeDayofweek           0.031087\n",
              "date_timeDay                -0.002436\n",
              "date_timeMonth              -0.022219\n",
              "date_timeDayofyear          -0.022562\n",
              "date_timeWeek               -0.038689\n",
              "date_timeIs_month_end       -0.048806\n",
              "date_timeYear               -0.237371\n",
              "date_timeElapsed            -0.237778\n",
              "date_timeIs_quarter_end           NaN\n",
              "date_timeIs_year_end              NaN\n",
              "date_timeIs_year_start            NaN\n",
              "Name: Rating, dtype: float64"
            ]
          },
          "metadata": {
            "tags": []
          },
          "execution_count": 35
        }
      ]
    },
    {
      "metadata": {
        "id": "F561fhSCDXyh",
        "colab_type": "code",
        "colab": {}
      },
      "cell_type": "code",
      "source": [
        "data[\"date_time\"] =pd.to_datetime(data[\"date_time\"])"
      ],
      "execution_count": 0,
      "outputs": []
    },
    {
      "metadata": {
        "id": "2dOFrcXsCgzd",
        "colab_type": "code",
        "colab": {}
      },
      "cell_type": "code",
      "source": [
        "def add_datepart1(df, fldname, drop=True, time=False, errors=\"raise\"):\t\n",
        "\n",
        "    fld = df[fldname]\n",
        "    fld_dtype = fld.dtype\n",
        "    if isinstance(fld_dtype, pd.core.dtypes.dtypes.DatetimeTZDtype):\n",
        "        fld_dtype = np.datetime64\n",
        "\n",
        "    if not np.issubdtype(fld_dtype, np.datetime64):\n",
        "        df[fldname] = fld = pd.to_datetime(fld, infer_datetime_format=True, errors=errors)\n",
        "    targ_pre = re.sub('[Dd]ate$', '', fldname)\n",
        "    attr = ['Year', 'Month', 'Week', 'Day', 'Dayofweek', 'Dayofyear',\n",
        "            'Is_month_end', 'Is_month_start', 'Is_quarter_end', 'Is_quarter_start', 'Is_year_end', 'Is_year_start']\n",
        "    if time: attr = attr + ['Hour', 'Minute', 'Second']\n",
        "    for n in attr: df[targ_pre + n] = getattr(fld.dt, n.lower())\n",
        "    df[targ_pre + 'Elapsed'] = fld.astype(np.int64) // 10 ** 9\n",
        "    if drop: df.drop(fldname, axis=1, inplace=True)\n",
        "\n",
        "def is_date(x): return np.issubdtype(x.dtype, np.datetime64)\n"
      ],
      "execution_count": 0,
      "outputs": []
    },
    {
      "metadata": {
        "id": "5jFEqClxDNIf",
        "colab_type": "code",
        "outputId": "fd3f5595-a49f-4fcc-88f7-95edab7a064a",
        "colab": {
          "base_uri": "https://localhost:8080/",
          "height": 395
        }
      },
      "cell_type": "code",
      "source": [
        "add_datepart1(data,\"date_time\")\n",
        "data.head()\n"
      ],
      "execution_count": 0,
      "outputs": [
        {
          "output_type": "execute_result",
          "data": {
            "text/html": [
              "<div>\n",
              "<style scoped>\n",
              "    .dataframe tbody tr th:only-of-type {\n",
              "        vertical-align: middle;\n",
              "    }\n",
              "\n",
              "    .dataframe tbody tr th {\n",
              "        vertical-align: top;\n",
              "    }\n",
              "\n",
              "    .dataframe thead th {\n",
              "        text-align: right;\n",
              "    }\n",
              "</style>\n",
              "<table border=\"1\" class=\"dataframe\">\n",
              "  <thead>\n",
              "    <tr style=\"text-align: right;\">\n",
              "      <th></th>\n",
              "      <th>subject</th>\n",
              "      <th>Customer</th>\n",
              "      <th>Location</th>\n",
              "      <th>Rating</th>\n",
              "      <th>Views</th>\n",
              "      <th>Total_reviews_by_customer</th>\n",
              "      <th>Customer_follower</th>\n",
              "      <th>date_timeYear</th>\n",
              "      <th>date_timeMonth</th>\n",
              "      <th>date_timeWeek</th>\n",
              "      <th>date_timeDay</th>\n",
              "      <th>date_timeDayofweek</th>\n",
              "      <th>date_timeDayofyear</th>\n",
              "      <th>date_timeIs_month_end</th>\n",
              "      <th>date_timeIs_month_start</th>\n",
              "      <th>date_timeIs_quarter_end</th>\n",
              "      <th>date_timeIs_quarter_start</th>\n",
              "      <th>date_timeIs_year_end</th>\n",
              "      <th>date_timeIs_year_start</th>\n",
              "      <th>date_timeElapsed</th>\n",
              "    </tr>\n",
              "  </thead>\n",
              "  <tbody>\n",
              "    <tr>\n",
              "      <th>0</th>\n",
              "      <td>Cheaters</td>\n",
              "      <td>ambajirao_a</td>\n",
              "      <td>Bangalore India</td>\n",
              "      <td>1</td>\n",
              "      <td>9558</td>\n",
              "      <td>2.0</td>\n",
              "      <td>1</td>\n",
              "      <td>2014</td>\n",
              "      <td>4</td>\n",
              "      <td>17</td>\n",
              "      <td>22</td>\n",
              "      <td>1</td>\n",
              "      <td>112</td>\n",
              "      <td>False</td>\n",
              "      <td>False</td>\n",
              "      <td>False</td>\n",
              "      <td>False</td>\n",
              "      <td>False</td>\n",
              "      <td>False</td>\n",
              "      <td>1398187320</td>\n",
              "    </tr>\n",
              "    <tr>\n",
              "      <th>1</th>\n",
              "      <td>Well, think again!!!!!</td>\n",
              "      <td>deekshasethi</td>\n",
              "      <td>new delhi india</td>\n",
              "      <td>4</td>\n",
              "      <td>3548</td>\n",
              "      <td>7.0</td>\n",
              "      <td>6</td>\n",
              "      <td>2006</td>\n",
              "      <td>3</td>\n",
              "      <td>11</td>\n",
              "      <td>13</td>\n",
              "      <td>0</td>\n",
              "      <td>72</td>\n",
              "      <td>False</td>\n",
              "      <td>False</td>\n",
              "      <td>False</td>\n",
              "      <td>False</td>\n",
              "      <td>False</td>\n",
              "      <td>False</td>\n",
              "      <td>1142286060</td>\n",
              "    </tr>\n",
              "    <tr>\n",
              "      <th>2</th>\n",
              "      <td>Metlife is the worst insurance company</td>\n",
              "      <td>lijok</td>\n",
              "      <td>Kochi India</td>\n",
              "      <td>1</td>\n",
              "      <td>9311</td>\n",
              "      <td>1.0</td>\n",
              "      <td>0</td>\n",
              "      <td>2013</td>\n",
              "      <td>6</td>\n",
              "      <td>23</td>\n",
              "      <td>4</td>\n",
              "      <td>1</td>\n",
              "      <td>155</td>\n",
              "      <td>False</td>\n",
              "      <td>False</td>\n",
              "      <td>False</td>\n",
              "      <td>False</td>\n",
              "      <td>False</td>\n",
              "      <td>False</td>\n",
              "      <td>1370336880</td>\n",
              "    </tr>\n",
              "    <tr>\n",
              "      <th>3</th>\n",
              "      <td>HAVE U MET LIFE TODAY??????</td>\n",
              "      <td>Kiran4</td>\n",
              "      <td>mumbai india</td>\n",
              "      <td>4</td>\n",
              "      <td>15309</td>\n",
              "      <td>15.0</td>\n",
              "      <td>28</td>\n",
              "      <td>2004</td>\n",
              "      <td>10</td>\n",
              "      <td>42</td>\n",
              "      <td>14</td>\n",
              "      <td>3</td>\n",
              "      <td>288</td>\n",
              "      <td>False</td>\n",
              "      <td>False</td>\n",
              "      <td>False</td>\n",
              "      <td>False</td>\n",
              "      <td>False</td>\n",
              "      <td>False</td>\n",
              "      <td>1097762760</td>\n",
              "    </tr>\n",
              "    <tr>\n",
              "      <th>4</th>\n",
              "      <td>Irresponsible persons  working over there in PNB</td>\n",
              "      <td>srikanthkumar.a</td>\n",
              "      <td>Bengaluru/ Bangalore India</td>\n",
              "      <td>1</td>\n",
              "      <td>3480</td>\n",
              "      <td>1.0</td>\n",
              "      <td>0</td>\n",
              "      <td>2017</td>\n",
              "      <td>5</td>\n",
              "      <td>22</td>\n",
              "      <td>31</td>\n",
              "      <td>2</td>\n",
              "      <td>151</td>\n",
              "      <td>True</td>\n",
              "      <td>False</td>\n",
              "      <td>False</td>\n",
              "      <td>False</td>\n",
              "      <td>False</td>\n",
              "      <td>False</td>\n",
              "      <td>1496259000</td>\n",
              "    </tr>\n",
              "  </tbody>\n",
              "</table>\n",
              "</div>"
            ],
            "text/plain": [
              "                                            subject         Customer  \\\n",
              "0                                          Cheaters      ambajirao_a   \n",
              "1                            Well, think again!!!!!     deekshasethi   \n",
              "2            Metlife is the worst insurance company            lijok   \n",
              "3                       HAVE U MET LIFE TODAY??????           Kiran4   \n",
              "4  Irresponsible persons  working over there in PNB  srikanthkumar.a   \n",
              "\n",
              "                     Location  Rating  Views  Total_reviews_by_customer  \\\n",
              "0             Bangalore India       1   9558                        2.0   \n",
              "1             new delhi india       4   3548                        7.0   \n",
              "2                 Kochi India       1   9311                        1.0   \n",
              "3                mumbai india       4  15309                       15.0   \n",
              "4  Bengaluru/ Bangalore India       1   3480                        1.0   \n",
              "\n",
              "   Customer_follower  date_timeYear  date_timeMonth  date_timeWeek  \\\n",
              "0                  1           2014               4             17   \n",
              "1                  6           2006               3             11   \n",
              "2                  0           2013               6             23   \n",
              "3                 28           2004              10             42   \n",
              "4                  0           2017               5             22   \n",
              "\n",
              "   date_timeDay  date_timeDayofweek  date_timeDayofyear  \\\n",
              "0            22                   1                 112   \n",
              "1            13                   0                  72   \n",
              "2             4                   1                 155   \n",
              "3            14                   3                 288   \n",
              "4            31                   2                 151   \n",
              "\n",
              "   date_timeIs_month_end  date_timeIs_month_start  date_timeIs_quarter_end  \\\n",
              "0                  False                    False                    False   \n",
              "1                  False                    False                    False   \n",
              "2                  False                    False                    False   \n",
              "3                  False                    False                    False   \n",
              "4                   True                    False                    False   \n",
              "\n",
              "   date_timeIs_quarter_start  date_timeIs_year_end  date_timeIs_year_start  \\\n",
              "0                      False                 False                   False   \n",
              "1                      False                 False                   False   \n",
              "2                      False                 False                   False   \n",
              "3                      False                 False                   False   \n",
              "4                      False                 False                   False   \n",
              "\n",
              "   date_timeElapsed  \n",
              "0        1398187320  \n",
              "1        1142286060  \n",
              "2        1370336880  \n",
              "3        1097762760  \n",
              "4        1496259000  "
            ]
          },
          "metadata": {
            "tags": []
          },
          "execution_count": 34
        }
      ]
    },
    {
      "metadata": {
        "id": "ThhbSn_BFK0h",
        "colab_type": "code",
        "outputId": "65601168-f3f3-46a4-850c-f17160ba3fde",
        "colab": {
          "base_uri": "https://localhost:8080/",
          "height": 333
        }
      },
      "cell_type": "code",
      "source": [
        "data.head(2)"
      ],
      "execution_count": 0,
      "outputs": [
        {
          "output_type": "execute_result",
          "data": {
            "text/html": [
              "<div>\n",
              "<style scoped>\n",
              "    .dataframe tbody tr th:only-of-type {\n",
              "        vertical-align: middle;\n",
              "    }\n",
              "\n",
              "    .dataframe tbody tr th {\n",
              "        vertical-align: top;\n",
              "    }\n",
              "\n",
              "    .dataframe thead th {\n",
              "        text-align: right;\n",
              "    }\n",
              "</style>\n",
              "<table border=\"1\" class=\"dataframe\">\n",
              "  <thead>\n",
              "    <tr style=\"text-align: right;\">\n",
              "      <th></th>\n",
              "      <th>subject</th>\n",
              "      <th>Customer</th>\n",
              "      <th>Location</th>\n",
              "      <th>Rating</th>\n",
              "      <th>Views</th>\n",
              "      <th>complaint</th>\n",
              "      <th>Total_reviews_by_customer</th>\n",
              "      <th>Customer_follower</th>\n",
              "      <th>date_timeYear</th>\n",
              "      <th>date_timeMonth</th>\n",
              "      <th>...</th>\n",
              "      <th>date_timeDay</th>\n",
              "      <th>date_timeDayofweek</th>\n",
              "      <th>date_timeDayofyear</th>\n",
              "      <th>date_timeIs_month_end</th>\n",
              "      <th>date_timeIs_month_start</th>\n",
              "      <th>date_timeIs_quarter_end</th>\n",
              "      <th>date_timeIs_quarter_start</th>\n",
              "      <th>date_timeIs_year_end</th>\n",
              "      <th>date_timeIs_year_start</th>\n",
              "      <th>date_timeElapsed</th>\n",
              "    </tr>\n",
              "  </thead>\n",
              "  <tbody>\n",
              "    <tr>\n",
              "      <th>0</th>\n",
              "      <td>Cheaters</td>\n",
              "      <td>ambajirao_a</td>\n",
              "      <td>Bangalore India</td>\n",
              "      <td>1</td>\n",
              "      <td>9558 Views</td>\n",
              "      <td>Third class service and they are cheaters. Nev...</td>\n",
              "      <td>2 Reviews</td>\n",
              "      <td>1 Follower</td>\n",
              "      <td>2014</td>\n",
              "      <td>4</td>\n",
              "      <td>...</td>\n",
              "      <td>22</td>\n",
              "      <td>1</td>\n",
              "      <td>112</td>\n",
              "      <td>False</td>\n",
              "      <td>False</td>\n",
              "      <td>False</td>\n",
              "      <td>False</td>\n",
              "      <td>False</td>\n",
              "      <td>False</td>\n",
              "      <td>1398187320</td>\n",
              "    </tr>\n",
              "    <tr>\n",
              "      <th>1</th>\n",
              "      <td>Well, think again!!!!!</td>\n",
              "      <td>deekshasethi</td>\n",
              "      <td>new delhi india</td>\n",
              "      <td>4</td>\n",
              "      <td>3548 Views</td>\n",
              "      <td>Its true that insurance is a services based in...</td>\n",
              "      <td>7 Reviews</td>\n",
              "      <td>6 Followers</td>\n",
              "      <td>2006</td>\n",
              "      <td>3</td>\n",
              "      <td>...</td>\n",
              "      <td>13</td>\n",
              "      <td>0</td>\n",
              "      <td>72</td>\n",
              "      <td>False</td>\n",
              "      <td>False</td>\n",
              "      <td>False</td>\n",
              "      <td>False</td>\n",
              "      <td>False</td>\n",
              "      <td>False</td>\n",
              "      <td>1142286060</td>\n",
              "    </tr>\n",
              "  </tbody>\n",
              "</table>\n",
              "<p>2 rows × 21 columns</p>\n",
              "</div>"
            ],
            "text/plain": [
              "                  subject      Customer         Location  Rating       Views  \\\n",
              "0                Cheaters   ambajirao_a  Bangalore India       1  9558 Views   \n",
              "1  Well, think again!!!!!  deekshasethi  new delhi india       4  3548 Views   \n",
              "\n",
              "                                           complaint  \\\n",
              "0  Third class service and they are cheaters. Nev...   \n",
              "1  Its true that insurance is a services based in...   \n",
              "\n",
              "  Total_reviews_by_customer Customer_follower  date_timeYear  date_timeMonth  \\\n",
              "0                 2 Reviews        1 Follower           2014               4   \n",
              "1                 7 Reviews       6 Followers           2006               3   \n",
              "\n",
              "         ...         date_timeDay  date_timeDayofweek  date_timeDayofyear  \\\n",
              "0        ...                   22                   1                 112   \n",
              "1        ...                   13                   0                  72   \n",
              "\n",
              "   date_timeIs_month_end  date_timeIs_month_start  date_timeIs_quarter_end  \\\n",
              "0                  False                    False                    False   \n",
              "1                  False                    False                    False   \n",
              "\n",
              "   date_timeIs_quarter_start  date_timeIs_year_end  date_timeIs_year_start  \\\n",
              "0                      False                 False                   False   \n",
              "1                      False                 False                   False   \n",
              "\n",
              "   date_timeElapsed  \n",
              "0        1398187320  \n",
              "1        1142286060  \n",
              "\n",
              "[2 rows x 21 columns]"
            ]
          },
          "metadata": {
            "tags": []
          },
          "execution_count": 20
        }
      ]
    },
    {
      "metadata": {
        "id": "I7VB80bTJEfK",
        "colab_type": "code",
        "colab": {}
      },
      "cell_type": "code",
      "source": [
        "from pandas.tools.plotting import scatter_matrix\n",
        "attributes =[\"Rating\",\"Views\",\"Total_reviews_by_customer\",\"Customer_follower\"]\n",
        "scatter_matrix(data[attributes], figsize=(12,8))\n"
      ],
      "execution_count": 0,
      "outputs": []
    },
    {
      "metadata": {
        "id": "xL5LAex_MiyO",
        "colab_type": "code",
        "outputId": "3982b394-19d8-492b-8b84-172f9c5edede",
        "colab": {
          "base_uri": "https://localhost:8080/",
          "height": 479
        }
      },
      "cell_type": "code",
      "source": [
        "import seaborn as sns\n",
        "sns.heatmap(data.corr(),cmap='YlGnBu')"
      ],
      "execution_count": 0,
      "outputs": [
        {
          "output_type": "execute_result",
          "data": {
            "text/plain": [
              "<matplotlib.axes._subplots.AxesSubplot at 0x7f4963380908>"
            ]
          },
          "metadata": {
            "tags": []
          },
          "execution_count": 38
        },
        {
          "output_type": "display_data",
          "data": {
            "image/png": "[encoded data removed]",
            "text/plain": [
              "<Figure size 576x396 with 2 Axes>"
            ]
          },
          "metadata": {
            "tags": []
          }
        }
      ]
    },
    {
      "metadata": {
        "id": "eoF_3vLBNqeh",
        "colab_type": "text"
      },
      "cell_type": "markdown",
      "source": [
        "**Sentiment Analysis on the attribute \"Subject\"**"
      ]
    },
    {
      "metadata": {
        "id": "cACyjPbVOgls",
        "colab_type": "code",
        "outputId": "dcd82094-c182-430c-e3c8-a646dad1559e",
        "colab": {
          "base_uri": "https://localhost:8080/",
          "height": 176
        }
      },
      "cell_type": "code",
      "source": [
        "data[\"class\"]=np.zeros([data.shape[0],1])\n",
        "data[\"class\"].loc[data.Rating>=3]=1\n",
        "data[\"class\"].head(2)"
      ],
      "execution_count": 0,
      "outputs": [
        {
          "output_type": "stream",
          "text": [
            "/usr/local/lib/python3.6/dist-packages/pandas/core/indexing.py:194: SettingWithCopyWarning: \n",
            "A value is trying to be set on a copy of a slice from a DataFrame\n",
            "\n",
            "See the caveats in the documentation: http://pandas.pydata.org/pandas-docs/stable/indexing.html#indexing-view-versus-copy\n",
            "  self._setitem_with_indexer(indexer, value)\n"
          ],
          "name": "stderr"
        },
        {
          "output_type": "execute_result",
          "data": {
            "text/plain": [
              "0    0.0\n",
              "1    1.0\n",
              "Name: class, dtype: float64"
            ]
          },
          "metadata": {
            "tags": []
          },
          "execution_count": 47
        }
      ]
    },
    {
      "metadata": {
        "id": "qw2Y1in2Si3f",
        "colab_type": "code",
        "colab": {}
      },
      "cell_type": "code",
      "source": [
        "X = data[\"subject\"]\n",
        "y = data[\"class\"]"
      ],
      "execution_count": 0,
      "outputs": []
    },
    {
      "metadata": {
        "id": "2saGFl0MZYLi",
        "colab_type": "text"
      },
      "cell_type": "markdown",
      "source": [
        "**Training and testing split is performed as 80-20%**"
      ]
    },
    {
      "metadata": {
        "id": "ZENlaDchM4rY",
        "colab_type": "code",
        "outputId": "bcf6862a-426b-4c14-9adb-1375a7f4bdc9",
        "colab": {
          "base_uri": "https://localhost:8080/",
          "height": 35
        }
      },
      "cell_type": "code",
      "source": [
        "#Train test split\n",
        "from sklearn.model_selection import train_test_split\n",
        "Xtrain, Xval, ytrain, yval = train_test_split(X, y, test_size=0.2)\n",
        "Xtrain.shape, ytrain.shape, Xval.shape, yval.shape"
      ],
      "execution_count": 71,
      "outputs": [
        {
          "output_type": "execute_result",
          "data": {
            "text/plain": [
              "((104,), (104,), (26,), (26,))"
            ]
          },
          "metadata": {
            "tags": []
          },
          "execution_count": 71
        }
      ]
    },
    {
      "metadata": {
        "id": "w48loN9ZOfHW",
        "colab_type": "code",
        "outputId": "603f221b-8117-4977-c475-a317e6662fd3",
        "colab": {
          "base_uri": "https://localhost:8080/",
          "height": 365
        }
      },
      "cell_type": "code",
      "source": [
        "data[\"class\"].hist()"
      ],
      "execution_count": 0,
      "outputs": [
        {
          "output_type": "execute_result",
          "data": {
            "text/plain": [
              "<matplotlib.axes._subplots.AxesSubplot at 0x7f4961a1cfd0>"
            ]
          },
          "metadata": {
            "tags": []
          },
          "execution_count": 50
        },
        {
          "output_type": "display_data",
          "data": {
            "image/png": "[encoded data removed]",
            "text/plain": [
              "<Figure size 576x396 with 1 Axes>"
            ]
          },
          "metadata": {
            "tags": []
          }
        }
      ]
    },
    {
      "metadata": {
        "id": "PSkYym5KS2pM",
        "colab_type": "code",
        "colab": {}
      },
      "cell_type": "code",
      "source": [
        "from sklearn.feature_extraction.text import CountVectorizer"
      ],
      "execution_count": 0,
      "outputs": []
    },
    {
      "metadata": {
        "id": "XIKhhT60ZqvH",
        "colab_type": "text"
      },
      "cell_type": "markdown",
      "source": [
        "**The bag-of-words model is a simplifying representation used in natural language processing and information retrieval (IR). In this model, a text (such as a sentence or a document) is represented as the bag (multiset) of its words, disregarding grammar and even word order but keeping multiplicity.**\n"
      ]
    },
    {
      "metadata": {
        "id": "ylTJbr3nZzHC",
        "colab_type": "text"
      },
      "cell_type": "markdown",
      "source": [
        "**Stopword-a word that is automatically omitted from a computer-generated concordance or index.**\n",
        "**Example : is,the **\n",
        "**These stopwords are removed from the analysis**"
      ]
    },
    {
      "metadata": {
        "id": "Yf7qIVgpTJMP",
        "colab_type": "code",
        "colab": {}
      },
      "cell_type": "code",
      "source": [
        "veczr = CountVectorizer(ngram_range=(1,3 ), lowercase = True, stop_words='english')"
      ],
      "execution_count": 0,
      "outputs": []
    },
    {
      "metadata": {
        "id": "sffXxPMkULDK",
        "colab_type": "code",
        "colab": {}
      },
      "cell_type": "code",
      "source": [
        "veczr.fit(Xtrain)\n",
        "trn_term = veczr.transform(Xtrain)\n",
        "val_term = veczr.transform(Xval)"
      ],
      "execution_count": 0,
      "outputs": []
    },
    {
      "metadata": {
        "id": "0Yv5_NccaI3f",
        "colab_type": "text"
      },
      "cell_type": "markdown",
      "source": [
        "**Logistic regression is the appropriate regression analysis to conduct when the dependent variable is dichotomous (binary).  Like all regression analyses, the logistic regression is a predictive analysis.  Logistic regression is used to describe data and to explain the relationship between one dependent binary variable and one or more nominal, ordinal, interval or ratio-level independent variables**"
      ]
    },
    {
      "metadata": {
        "id": "_ATBMa5-TfiP",
        "colab_type": "code",
        "outputId": "01e92804-90d3-46d4-9406-d28eb85449f0",
        "colab": {
          "base_uri": "https://localhost:8080/",
          "height": 141
        }
      },
      "cell_type": "code",
      "source": [
        "from sklearn.linear_model import LogisticRegression\n",
        "model = LogisticRegression(C=0.1, dual=True)\n",
        "model.fit(trn_term, ytrain)"
      ],
      "execution_count": 74,
      "outputs": [
        {
          "output_type": "stream",
          "text": [
            "/usr/local/lib/python3.6/dist-packages/sklearn/linear_model/logistic.py:433: FutureWarning: Default solver will be changed to 'lbfgs' in 0.22. Specify a solver to silence this warning.\n",
            "  FutureWarning)\n"
          ],
          "name": "stderr"
        },
        {
          "output_type": "execute_result",
          "data": {
            "text/plain": [
              "LogisticRegression(C=0.1, class_weight=None, dual=True, fit_intercept=True,\n",
              "          intercept_scaling=1, max_iter=100, multi_class='warn',\n",
              "          n_jobs=None, penalty='l2', random_state=None, solver='warn',\n",
              "          tol=0.0001, verbose=0, warm_start=False)"
            ]
          },
          "metadata": {
            "tags": []
          },
          "execution_count": 74
        }
      ]
    },
    {
      "metadata": {
        "id": "V_4K-kz9VaPz",
        "colab_type": "code",
        "outputId": "dbbdf82c-e612-4c76-fca0-d21565de9b29",
        "colab": {
          "base_uri": "https://localhost:8080/",
          "height": 35
        }
      },
      "cell_type": "code",
      "source": [
        "prediction = model.predict(trn_term)\n",
        "prediction_val = model.predict(val_term)\n",
        "np.sum(prediction==ytrain)/len(ytrain), np.sum(prediction_val==yval)/len(yval)\n",
        "                                                                       "
      ],
      "execution_count": 75,
      "outputs": [
        {
          "output_type": "execute_result",
          "data": {
            "text/plain": [
              "(0.8076923076923077, 0.8076923076923077)"
            ]
          },
          "metadata": {
            "tags": []
          },
          "execution_count": 75
        }
      ]
    },
    {
      "metadata": {
        "id": "o60Mgyu1VzHJ",
        "colab_type": "code",
        "outputId": "3cfd36c1-0c6c-442b-8f55-3f81b79773f4",
        "colab": {
          "base_uri": "https://localhost:8080/",
          "height": 52
        }
      },
      "cell_type": "code",
      "source": [
        "from sklearn.metrics import confusion_matrix \n",
        "confusion_matrix( ytrain, prediction)"
      ],
      "execution_count": 0,
      "outputs": [
        {
          "output_type": "execute_result",
          "data": {
            "text/plain": [
              "array([[84,  0],\n",
              "       [20,  0]])"
            ]
          },
          "metadata": {
            "tags": []
          },
          "execution_count": 62
        }
      ]
    },
    {
      "metadata": {
        "id": "CF0U1qiTaiDQ",
        "colab_type": "text"
      },
      "cell_type": "markdown",
      "source": [
        "**Inference : 84 values are predicted correctly and 20 or not.**"
      ]
    },
    {
      "metadata": {
        "id": "bUB3dJihWTRe",
        "colab_type": "code",
        "colab": {}
      },
      "cell_type": "code",
      "source": [
        "from sklearn.ensemble import RandomForestClassifier\n",
        "model_RF = RandomForestClassifier(n_estimators=10)"
      ],
      "execution_count": 0,
      "outputs": []
    },
    {
      "metadata": {
        "id": "Gk36Vez4c03y",
        "colab_type": "code",
        "colab": {}
      },
      "cell_type": "code",
      "source": [
        "Xt = trn_term.sign()\n",
        "Xv = val_term.sign()"
      ],
      "execution_count": 0,
      "outputs": []
    },
    {
      "metadata": {
        "id": "XraMOjTGcsSd",
        "colab_type": "code",
        "colab": {
          "base_uri": "https://localhost:8080/",
          "height": 139
        },
        "outputId": "fcf2dea3-9c02-4e39-eee7-bb99f0a96197"
      },
      "cell_type": "code",
      "source": [
        "model_RF.fit(Xt, ytrain)"
      ],
      "execution_count": 80,
      "outputs": [
        {
          "output_type": "execute_result",
          "data": {
            "text/plain": [
              "RandomForestClassifier(bootstrap=True, class_weight=None, criterion='gini',\n",
              "            max_depth=None, max_features='auto', max_leaf_nodes=None,\n",
              "            min_impurity_decrease=0.0, min_impurity_split=None,\n",
              "            min_samples_leaf=1, min_samples_split=2,\n",
              "            min_weight_fraction_leaf=0.0, n_estimators=10, n_jobs=None,\n",
              "            oob_score=False, random_state=None, verbose=0,\n",
              "            warm_start=False)"
            ]
          },
          "metadata": {
            "tags": []
          },
          "execution_count": 80
        }
      ]
    },
    {
      "metadata": {
        "id": "ZGwcsDQlc__T",
        "colab_type": "code",
        "colab": {
          "base_uri": "https://localhost:8080/",
          "height": 35
        },
        "outputId": "75ca392b-b66b-4d27-aea2-460fc9feb0e0"
      },
      "cell_type": "code",
      "source": [
        "prediction = model_RF.predict(Xt)\n",
        "prediction_val = model_RF.predict(Xv)\n",
        "\n",
        "np.sum(prediction==ytrain)/len(ytrain), np.sum(prediction_val==yval)/len(yval)"
      ],
      "execution_count": 81,
      "outputs": [
        {
          "output_type": "execute_result",
          "data": {
            "text/plain": [
              "(0.9903846153846154, 0.6923076923076923)"
            ]
          },
          "metadata": {
            "tags": []
          },
          "execution_count": 81
        }
      ]
    },
    {
      "metadata": {
        "id": "WsYm9Sq2ebil",
        "colab_type": "code",
        "colab": {}
      },
      "cell_type": "code",
      "source": [
        "from sklearn.model_selection import GridSearchCV\n",
        "param_grid = [\n",
        "    {'n_estimators': [3,10,30], 'max_features': [2,4,6,8]},\n",
        "    {'bootstrap' : [False],'n_estimators': [3,10], 'max_features': [2, 3, 4]}\n",
        "]\n",
        "\n",
        "grid_search = GridSearchCV(model_RF, param_grid, cv=5, scoring='accuracy')\n",
        "grid_search.fit(trn_term, ytrain)"
      ],
      "execution_count": 0,
      "outputs": []
    },
    {
      "metadata": {
        "id": "fFma0tnledWk",
        "colab_type": "code",
        "colab": {
          "base_uri": "https://localhost:8080/",
          "height": 35
        },
        "outputId": "079ff819-e657-4a46-afb3-c9633de8f1ac"
      },
      "cell_type": "code",
      "source": [
        "grid_search.best_params_"
      ],
      "execution_count": 87,
      "outputs": [
        {
          "output_type": "execute_result",
          "data": {
            "text/plain": [
              "{'max_features': 4, 'n_estimators': 10}"
            ]
          },
          "metadata": {
            "tags": []
          },
          "execution_count": 87
        }
      ]
    },
    {
      "metadata": {
        "id": "hAUo3a7Ve3us",
        "colab_type": "code",
        "colab": {}
      },
      "cell_type": "code",
      "source": [
        "grid_search.cv_results_\n"
      ],
      "execution_count": 0,
      "outputs": []
    },
    {
      "metadata": {
        "id": "8ahLtKjPfMDC",
        "colab_type": "code",
        "colab": {
          "base_uri": "https://localhost:8080/",
          "height": 35
        },
        "outputId": "544a89ec-969a-4951-a24e-b203fddec344"
      },
      "cell_type": "code",
      "source": [
        "prediction = grid_search.predict(Xt)\n",
        "prediction_val = grid_search.predict(Xv)\n",
        "np.sum(prediction==ytrain)/len(ytrain), np.sum(prediction_val==yval)/len(yval)\n",
        "                                                                       "
      ],
      "execution_count": 92,
      "outputs": [
        {
          "output_type": "execute_result",
          "data": {
            "text/plain": [
              "(0.9807692307692307, 0.6923076923076923)"
            ]
          },
          "metadata": {
            "tags": []
          },
          "execution_count": 92
        }
      ]
    },
    {
      "metadata": {
        "id": "2yYo2ynqgPy7",
        "colab_type": "code",
        "colab": {}
      },
      "cell_type": "code",
      "source": [
        ""
      ],
      "execution_count": 0,
      "outputs": []
    }
  ]
}